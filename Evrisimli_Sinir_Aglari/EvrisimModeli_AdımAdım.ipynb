{
  "nbformat": 4,
  "nbformat_minor": 0,
  "metadata": {
    "colab": {
      "name": "EvrisimModeli-AdımAdım.ipynb",
      "version": "0.3.2",
      "provenance": [],
      "collapsed_sections": []
    },
    "kernelspec": {
      "display_name": "Python 3",
      "language": "python",
      "name": "python3"
    },
    "accelerator": "GPU"
  },
  "cells": [
    {
      "metadata": {
        "id": "0xQczcGreGwY",
        "colab_type": "text"
      },
      "cell_type": "markdown",
      "source": [
        "# Evrişimli Sinir Ağları: Adım Adım\n",
        "\n",
        "**Kaynak: **[deeplearning.ai](https://www.deeplearning.ai/) / Coursera / Prof. Andrew Ng\n",
        "\n",
        "### [**Google Colab Üzerinde Çalıştırmak için Tıklayınız!**](https://colab.research.google.com/github/ayyucekizrak/Udemy_DerinOgrenmeyeGiris/tree/master/Evrisimli_Sinir_Aglari)\n",
        "\n",
        "Bu uygulamada evrişim (CONV) ve ortaklama (POOL) katmanlarından oluşan bir Evrişimli Sinir Ağı (Convolutional Neural Network) oluşturacağız.  Uygulamamız aynı zamanda ileri yönlü hesaplamaları ve geriye yayılım algoritmasını da içerecek.\n",
        "\n",
        "**Notasyon**:\n",
        "- Köşeli parantez içerisinde üst indis $[l]$ belirtilen parametrenin $l.$ katmana ait olduğunu belirtmektedir.\n",
        "    - Örnek: $a^{[4]}$, $4.$ katmanın aktivasyon değeridir. $W^{[5]}$ ve $b^{[5]}$ $5.$ katmanın parametreleridir.\n",
        "\n",
        "- Parantez içerisinde üst indis $(i)$ parametrenin $i.$ örneğe ait olduğunu göstermektedir. \n",
        "    - Örnek: $x^{(i)}$, $i.$ eğitim örneğidir.\n",
        "    \n",
        "- Alt indis $i$, $i.$ nöronu belirtmektedir.\n",
        "    - Örnek: $a^{[l]}_i$, $l.$ katmanın $i.$ nöronuna ait aktivasyon değerini belirtmektedir.\n",
        "    \n",
        "- $n_H$, $n_W$ ve $n_C$ sırasıyla yükseklik, genişlik ve kanal sayısını göstermektedir. Özellikle bir katmanı (örneğin $l.$ katman) belirtmek istiyorsanız köşeli parantez içinde üst indis kullanabilirsiniz $n_H^{[l]}$, $n_W^{[l]}$, $n_C^{[l]}$. "
      ]
    },
    {
      "metadata": {
        "id": "9SINdu3qeGwa",
        "colab_type": "text"
      },
      "cell_type": "markdown",
      "source": [
        "## 1 - Kütüphaneler\n",
        "\n",
        "İlk olarak kullanacağımız Python kütüphanelerini koda dahil edelim. \n",
        "\n",
        "- [Numpy](www.numpy.org) bilimsel hesaplamalar için \n",
        "- [Matplotlib](http://matplotlib.org) plotlama işlemlerini yapmak için\n",
        "- np.random.seed(1) üretilen rastgele sayıların sabit olmasını sağlamak için"
      ]
    },
    {
      "metadata": {
        "id": "Uk9KSOg8eGwa",
        "colab_type": "code",
        "colab": {}
      },
      "cell_type": "code",
      "source": [
        "import numpy as np\n",
        "import h5py\n",
        "import matplotlib.pyplot as plt\n",
        "\n",
        "%matplotlib inline\n",
        "plt.rcParams['figure.figsize'] = (5.0, 4.0) # set default size of plots\n",
        "plt.rcParams['image.interpolation'] = 'nearest'\n",
        "plt.rcParams['image.cmap'] = 'gray'\n",
        "\n",
        "%load_ext autoreload\n",
        "%autoreload 2\n",
        "\n",
        "np.random.seed(1)"
      ],
      "execution_count": 0,
      "outputs": []
    },
    {
      "metadata": {
        "id": "WF8mgQ-UeGwf",
        "colab_type": "text"
      },
      "cell_type": "markdown",
      "source": [
        "## 2 - Uygulamaya Genel Bir Bakış\n",
        "\n",
        "Evrişimli sinir ağımızı bloklar halinde oluşturacağız. Tanımlayacağımız fonksiyonlar şunları içeriyor:\n",
        "\n",
        "- Evrişim fonksiyonları:\n",
        "    - Sıfır dolgulama-piksel ekleme (Zero padding)\n",
        "    - Evrişim penceresi (Convolve window) \n",
        "    - İleri yönlü evrişim \n",
        "    - Evrişimde geriye yayılım\n",
        "\n",
        "- Ortaklama (pooling) fonksiyonları::\n",
        "    - İleri yönlü ortaklama \n",
        "    - Maske oluşturma \n",
        "    - Değeri dağıtma \n",
        "    - Ortaklamada geriye yayılım\n",
        "\n",
        "Yukarıda belirtilen fonksiyonları `Numpy` kütüphanesini kullanarak sıfırdan oluşturacağız. \n",
        "\n",
        "**Önemli Not:** İleri yönlü hesaplamaların ardından geriye yayılım algoritmasını gerçekleyeceğimiz için bazı parametrelerin geçici olarak hafızada tutulması gerekmektedir."
      ]
    },
    {
      "metadata": {
        "id": "E_UoZq8OeGwg",
        "colab_type": "text"
      },
      "cell_type": "markdown",
      "source": [
        "## 3 - Evrişimli Sinir Ağları\n",
        "\n",
        "Kütüphanelerle hızlı bir şekilde evrişim işlemini yapabiliyor olsak da derin öğrenme içerisinde anlaşılması en zor konulardan bir tanesi evrişim işlemidir. Evrişim katmanında giriş hacim değeri (genelde) farklı boyutta bir çıkış hacmine dönüştürülür. \n",
        "\n",
        "Bu bölümde evrişim katmanını adım adım oluşturacağız. İlk olarak sıfır dolgulama (zero padding) ve evrişim değerlerini hesaplayan iki fonksiyonu tanımlayalım."
      ]
    },
    {
      "metadata": {
        "id": "qvSOcK2ZeGwh",
        "colab_type": "text"
      },
      "cell_type": "markdown",
      "source": [
        "### 3.1 - Sıfır ile Dolgulama (Zero-Padding)\n",
        "\n",
        "Sıfır dolgulama işleminde görüntünün etrafına sıfırlar eklenir.\n",
        "\n",
        "Dolgulama işleminin avantajlarını şu şekilde belirtebiliriz: \n",
        "\n",
        "- Yükseklik ve genişlik değerlerini azaltmadan CONV katmanını kullanmamızı sağlar. Özellikle çok derin ağlarda bu çok önemlidir. Çünkü giriş görüntüsünün yükseklik ve genişliği katmanlarda ilerledikçe küçülürse çok değerin ağ tasarlamam mümkün olmayacaktır. Kütüphanelerde kullanılan 'same convolution' parametresi ile evrişim işlemi sonunda yükseklik ve genişlik değerleri korunmaktadır. \n",
        "\n",
        "- Kırpma işlemi olmadığı için görüntünün sınırlarındaki bilgilerde kayıp olmaz.\n",
        "\n",
        "**Örnek**: X adet örnekten oluşan görüntü yığınında [np.pad](https://docs.scipy.org/doc/numpy/reference/generated/numpy.pad.html) kullanarak piksel ekleme işlemini yapalım. $(5,5,5,5,5)$ boyutundaki \"a\" dizisi için 2. boyutta `pad = 1`, 4. boyutta `pad = 3` ve kalanlar için `pad = 0` yapmak için: \n",
        "\n",
        "```python\n",
        "a = np.pad(a, ((0,0), (1,1), (0,0), (3,3), (0,0)), 'constant', constant_values = (..,..))\n",
        "```"
      ]
    },
    {
      "metadata": {
        "id": "f6pXM59meGwh",
        "colab_type": "code",
        "colab": {}
      },
      "cell_type": "code",
      "source": [
        "def zero_pad(X, pad):\n",
        "    \"\"\"\n",
        "    X veri kümesinin tüm resimlerine piksel ekleme (padding) yapar.\n",
        "    Pikseller yükseklik ve genişliğe uygulanır.\n",
        "    \n",
        "    Girdiler:\n",
        "    X -- görüntü yığını (batch) {(m, n_H, n_W, n_C) boyutlu Numpy dizisi}\n",
        "    pad -- dikey ve yatay boyutlarda eklenecek piksel miktarı {tam sayı}\n",
        "        \n",
        "    Çıktı:\n",
        "    X_pad -- piksel eklenmiş durum {(m, n_H + 2*pad, n_W + 2*pad, n_C) boyutlu Numpy dizisi}\n",
        "    \"\"\"\n",
        "    \n",
        "    X_pad = np.pad(X, ((0,0), (pad, pad), (pad,pad), (0,0)), 'constant',  constant_values = 0)\n",
        "    \n",
        "    return X_pad"
      ],
      "execution_count": 0,
      "outputs": []
    },
    {
      "metadata": {
        "id": "SFgS1_AYeGwk",
        "colab_type": "code",
        "colab": {
          "base_uri": "https://localhost:8080/",
          "height": 411
        },
        "outputId": "79809a0f-0685-4c0b-aaa4-532d2fb7a918"
      },
      "cell_type": "code",
      "source": [
        "np.random.seed(1)\n",
        "x = np.random.randn(4, 3, 3, 2)\n",
        "x_pad = zero_pad(x, 2)\n",
        "\n",
        "print (\"x.shape =\", x.shape)\n",
        "print (\"x_pad.shape =\", x_pad.shape)\n",
        "print (\"x[1,1] =\", x[1,1])\n",
        "print (\"x_pad[1,1] =\", x_pad[1,1])\n",
        "\n",
        "fig, axarr = plt.subplots(1, 2)\n",
        "axarr[0].set_title('x')\n",
        "axarr[0].imshow(x[0,:,:,0])\n",
        "axarr[1].set_title('x_pad')\n",
        "axarr[1].imshow(x_pad[0,:,:,0])"
      ],
      "execution_count": 3,
      "outputs": [
        {
          "output_type": "stream",
          "text": [
            "x.shape = (4, 3, 3, 2)\n",
            "x_pad.shape = (4, 7, 7, 2)\n",
            "x[1,1] = [[ 0.90085595 -0.68372786]\n",
            " [-0.12289023 -0.93576943]\n",
            " [-0.26788808  0.53035547]]\n",
            "x_pad[1,1] = [[0. 0.]\n",
            " [0. 0.]\n",
            " [0. 0.]\n",
            " [0. 0.]\n",
            " [0. 0.]\n",
            " [0. 0.]\n",
            " [0. 0.]]\n"
          ],
          "name": "stdout"
        },
        {
          "output_type": "execute_result",
          "data": {
            "text/plain": [
              "<matplotlib.image.AxesImage at 0x7fd8c660e048>"
            ]
          },
          "metadata": {
            "tags": []
          },
          "execution_count": 3
        },
        {
          "output_type": "display_data",
          "data": {
            "image/png": "[encoded data removed]",
            "text/plain": [
              "<matplotlib.figure.Figure at 0x7fd8c66f6a20>"
            ]
          },
          "metadata": {
            "tags": []
          }
        }
      ]
    },
    {
      "metadata": {
        "id": "HBjR_BsFeGwm",
        "colab_type": "text"
      },
      "cell_type": "markdown",
      "source": [
        "### 3.2 - Bir Adımlık Evrişim\n",
        "\n",
        "Bu bölümde görüntünün belirli bir bölümüne evrişim filtresinden geçirerek bir adımlık evrişim işlemini gerçekleştireceğiz. Şu temel adımlar oluşmaktadır:\n",
        "\n",
        "- Giriş görüntüsü alma\n",
        "- Giriş değerinin her noktasına filtre uygulama\n",
        "- Farklı boyutta (genelde) bir çıkış değeri üretme\n",
        "\n",
        "Bilgisayarı görüde matrisin her bir değeri bir piksele karşılık gelmektedir. 3x3 boyutlu filtre ile evrişim işleminde; matrisin her bir elemanı filtrenin elemanları ile element-wise çarpılır ve bias değerleri ile toplanır. \n",
        "\n",
        "**Örnek**: conv_single_step() fonksiyonunu gerçekleyelim. [İpucu](https://docs.scipy.org/doc/numpy-1.13.0/reference/generated/numpy.sum.html)\n"
      ]
    },
    {
      "metadata": {
        "id": "2konEa7YeGwn",
        "colab_type": "code",
        "colab": {}
      },
      "cell_type": "code",
      "source": [
        "def conv_single_step(a_slice_prev, W, b):\n",
        "    \"\"\"\n",
        "    \n",
        "    Tek adımlık evrişim işlemini gerçekleştirir.\n",
        "    \n",
        "    Girdiler:\n",
        "    a_slice_prev -- (f, f, n_C_prev) boyutlu giriş verisi\n",
        "    W -- (f, f, n_C_prev) boyutlu ağırlık değeri\n",
        "    b -- (1, 1, 1) boyutlu bias değeri\n",
        "    \n",
        "    Çıktı:\n",
        "    Z -- skaler çıkış değeri\n",
        "    \"\"\"\n",
        "\n",
        "    # Giriş ile ağırlık değerlerinin çarpımı  \n",
        "    s = np.multiply(a_slice_prev, W)\n",
        "    # Toplama\n",
        "    Z = np.sum(s)\n",
        "    # Z'ye b bias değerini ekleme\n",
        "    Z = float(b)+Z\n",
        "\n",
        "    return Z"
      ],
      "execution_count": 0,
      "outputs": []
    },
    {
      "metadata": {
        "id": "ha5QDKWHeGwp",
        "colab_type": "code",
        "colab": {
          "base_uri": "https://localhost:8080/",
          "height": 34
        },
        "outputId": "4ffc500e-7b97-4264-b156-b32378fd8f25"
      },
      "cell_type": "code",
      "source": [
        "np.random.seed(1)\n",
        "a_slice_prev = np.random.randn(4, 4, 3)\n",
        "W = np.random.randn(4, 4, 3)\n",
        "b = np.random.randn(1, 1, 1)\n",
        "\n",
        "Z = conv_single_step(a_slice_prev, W, b)\n",
        "print(\"Z =\", Z)"
      ],
      "execution_count": 5,
      "outputs": [
        {
          "output_type": "stream",
          "text": [
            "Z = -6.999089450680221\n"
          ],
          "name": "stdout"
        }
      ]
    },
    {
      "metadata": {
        "id": "sBMB4qqAeGws",
        "colab_type": "text"
      },
      "cell_type": "markdown",
      "source": [
        "### 3.3 - Evrişimli Sinri Ağları - İleri Yönlü Hesaplama\n",
        "\n",
        "İleri yönlü hesaplama yaparken giriş değerleri ile filtreler kullanılarak evrişim işlemi gerçekleştirilir. Her bir evrişim işlemi size 2 boyutlu matris çıktısı üretir. 3 boyutlu giriş görüntüsü için bunları art arda ekleriz.   \n",
        " \n",
        "\n",
        "**Örnek**: Giriş aktivasyon değeri A_prev ile W filtrelerini kullanarak evrişim işlemini gerçekleştiren bir fonksiyon tanımlayalım. Bu fonksiyonda bir önceki katmanın m örneklik yığını için aktivasyon değeri A_prev, W ile gösterilen filtreler ve b bias vektörü kullanılır. Ayrıca kaydırma (stride) ve eklenecek piksel miktarını (padding) tutan \"hparameters\" sözlüğü de kullanılır. \n",
        "\n",
        "**İpucu**: \n",
        "1. (5,5,3) boyutlu \"a_prev\" üzerinde sol üst köşede 2x2 boyutundaki bir dilimi şu şekilde seçeriz: \n",
        "\n",
        "```python\n",
        "a_slice_prev = a_prev[0:2,0:2,:]\n",
        "```\n",
        "2. a_slice'yı tanımlamak için öncelikle köşeleri belirlememeiz gerekir: `vert_start`, `vert_end`, `horiz_start` and `horiz_end`. \n",
        "\n",
        "**Hatırlatma**:\n",
        "Giriş görüntüsüne göre çıkış görüntüsünün değeri şu şekilde bulunur:\n",
        "$$ n_H = \\lfloor \\frac{n_{H_{prev}} - f + 2 \\times pad}{stride} \\rfloor +1 $$\n",
        "$$ n_W = \\lfloor \\frac{n_{W_{prev}} - f + 2 \\times pad}{stride} \\rfloor +1 $$\n",
        "$$ n_C = \\text{filtre sayısı}$$"
      ]
    },
    {
      "metadata": {
        "id": "7Dg2PzW1eGwt",
        "colab_type": "code",
        "colab": {}
      },
      "cell_type": "code",
      "source": [
        "def conv_forward(A_prev, W, b, hparameters):\n",
        "    \"\"\"\n",
        "    Evrişim fonksiyonu için ileri yönlü hesaplamalar\n",
        "    \n",
        "    Girdiler:\n",
        "    A_prev -- bir önceki katmanın çıkış aktivasyon değeri {(m, n_H_prev, n_W_prev, n_C_prev) boyutlu Numpy dizisi}\n",
        "    W -- Ağırlıklar {(f, f, n_C_prev, n_C) boyutlu Numpy dizisi}\n",
        "    b -- Bias, {(1, 1, 1, n_C) boyutlu Numpy dizisi}\n",
        "    hparameters -- \"stride\" ve \"pad\" değerlerini içeren sözlük\n",
        "        \n",
        "    Çıktılar:\n",
        "    Z -- evrişim çıkışı {(m, n_H, n_W, n_C) boyutlu Numpy dizisi}\n",
        "    cache -- conv_backward() fonksiyonu için gerekli değerler\n",
        "    \"\"\"\n",
        "    \n",
        "    # A_prev'in boyutlarını bulalım  \n",
        "    (m, n_H_prev, n_W_prev, n_C_prev) = A_prev.shape\n",
        "    \n",
        "    # W'nin boyutunu bulalım\n",
        "    (f, f, n_C_prev, n_C) = W.shape\n",
        "    \n",
        "    # \"hyperparameters\" sözlüğünden hiperparametreleri alalım\n",
        "    stride = hparameters['stride']\n",
        "    pad = hparameters['pad']\n",
        "    \n",
        "    # CONV çıkış boyutunu tanımlayalım\n",
        "    n_H = int(((n_H_prev-f+2*pad)/stride)+1)\n",
        "    n_W = int(((n_W_prev-f+2*pad)/stride)+1)\n",
        "    \n",
        "    # Çıkış Z değerini sıfırlar ile ilklendirelim\n",
        "    Z = np.zeros([m,n_H,n_W,n_C])\n",
        "    \n",
        "    # A_prev'a piksel ekleme yapalım\n",
        "    A_prev_pad = zero_pad(A_prev, pad)\n",
        "    \n",
        "    for i in range(m):                          # eğitim örnekleri üzerinde döngü\n",
        "        a_prev_pad = A_prev_pad[i]              # i. örnek \n",
        "        for h in range(n_H):                    # çıkış değerinin dikey ekseninde döngü\n",
        "            for w in range(n_W):                # çıkış değerinin yatay ekseninde döngü\n",
        "                for c in range(n_C):            # çıkış değerinin kanalları üzerinde döngü\n",
        "                    \n",
        "                    # Köşeleri bulalım\n",
        "                    vert_start = h*stride\n",
        "                    vert_end = vert_start + f\n",
        "                    horiz_start = w*stride\n",
        "                    horiz_end = horiz_start + f\n",
        "                    \n",
        "                    # Köşeleri kullanalım \n",
        "                    a_slice_prev = a_prev_pad[vert_start:vert_end, horiz_start:horiz_end]\n",
        "                    \n",
        "                    # Evrişim işlemini gerçekleştirelim\n",
        "                    Z[i, h, w, c] = conv_single_step(a_slice_prev, W[...,c], b[...,c])\n",
        "                                            \n",
        "    # Çıkış değerinin boyutunun doğruluğunu kontrol edelim\n",
        "    assert(Z.shape == (m, n_H, n_W, n_C))\n",
        "    \n",
        "    # Geriye yayılım için değerleri saklayalım\n",
        "    cache = (A_prev, W, b, hparameters)\n",
        "    \n",
        "    return Z, cache"
      ],
      "execution_count": 0,
      "outputs": []
    },
    {
      "metadata": {
        "id": "3gQA-YTmeGww",
        "colab_type": "code",
        "colab": {
          "base_uri": "https://localhost:8080/",
          "height": 85
        },
        "outputId": "e3cb7a93-8466-4ce0-9f18-d5a55e0d4a0d"
      },
      "cell_type": "code",
      "source": [
        "np.random.seed(1)\n",
        "A_prev = np.random.randn(10,4,4,3)\n",
        "W = np.random.randn(2,2,3,8)\n",
        "b = np.random.randn(1,1,1,8)\n",
        "hparameters = {\"pad\" : 2,\n",
        "               \"stride\": 2}\n",
        "\n",
        "Z, cache_conv = conv_forward(A_prev, W, b, hparameters)\n",
        "\n",
        "print(\"Z'nin ortalama =\", np.mean(Z))\n",
        "print(\"Z[3,2,1] =\", Z[3,2,1])\n",
        "print(\"cache_conv[0][1][2][3] =\", cache_conv[0][1][2][3])"
      ],
      "execution_count": 7,
      "outputs": [
        {
          "output_type": "stream",
          "text": [
            "Z'nin ortalama = 0.048995203528855794\n",
            "Z[3,2,1] = [-0.61490741 -6.7439236  -2.55153897  1.75698377  3.56208902  0.53036437\n",
            "  5.18531798  8.75898442]\n",
            "cache_conv[0][1][2][3] = [-0.20075807  0.18656139  0.41005165]\n"
          ],
          "name": "stdout"
        }
      ]
    },
    {
      "metadata": {
        "id": "n3x4jEHBeGwz",
        "colab_type": "text"
      },
      "cell_type": "markdown",
      "source": [
        "Son olarak CONV katmanında aktivasyon fonksiyonu olmalı. Z değerini aktivasyon fonksiyonunda geçirirek aktivasyon değerini buluruz:\n",
        "\n",
        "```python\n",
        "# Evrişim işlemi gerçekleştir\n",
        "Z[i, h, w, c] = ...\n",
        "\n",
        "# Aktivasyon fonksiyonunu uygula\n",
        "A[i, h, w, c] = activation(Z[i, h, w, c])\n",
        "```\n",
        "\n",
        "Burada bunu yapmayacağız."
      ]
    },
    {
      "metadata": {
        "id": "LkxrHplgeGwz",
        "colab_type": "text"
      },
      "cell_type": "markdown",
      "source": [
        "## 4 - Ortaklama Katmanı \n",
        "\n",
        "Ortaklama katmanı (POOL) giriş görüntüsünün yükseklik ve genişlik değerini azaltır. Hesaplama yükünü azaltmanın yanında öznitelik tespit edicilerin (feature detector) giriş görüntüsünde konumdan bağımsız olarak öznitelik tespit etmesini sağlar. Sık kullanılan iki ortaklama türü vardır:\n",
        "\n",
        "- Maksimum ortaklama (max-pooling) katmanı: ($f, f$) boyutundaki pencere giriş görüntüsü üzerinde kaydırılır ve pencere içerisinde yer alan \"en büyük değer\" çıkış değeri olarak saklanır.\n",
        "\n",
        "- Ortalama ortaklama (average-pooing) katmanı: ($f, f$) boyutundaki pencere giriş görüntüsü üzerinde kaydırılır ve pencere içerisinde yer alan değerlerin \"ortalaması\" çıkış değeri olarak saklanır.\n",
        "\n",
        "Ortaklama katmanında eğitim için hatanın geriye yayılımı sırasında kullanılacak herhangi bir parametre yoktur. Bu katmanda yalnızca pencere boyutu ($f$) hiperparametresinin seçimi yapılmaktadır.\n",
        "\n",
        "\n",
        "### 4.1 - İleri Yönlü Ortaklama\n",
        "Bu adımda aynı fonksiyon içerisinde ileri yönlü ortaklama için kullanacağız MAX-POOL ve AVG-POOL gerçeklemelerini yapacağız.\n",
        "\n",
        "\n",
        "**Hatırlatma**:\n",
        "Görüntünün etrafına herhangi bir dolgulama (padding) yapılmadığı için ortaklama işlemi sonucunda elde edilen çıkış değerinin boyutları şu şekilde hesaplanır:\n",
        "$$ n_H = \\lfloor \\frac{n_{H_{prev}} - f}{stride} \\rfloor +1 $$\n",
        "$$ n_W = \\lfloor \\frac{n_{W_{prev}} - f}{stride} \\rfloor +1 $$\n",
        "$$ n_C = n_{C_{prev}}$$"
      ]
    },
    {
      "metadata": {
        "id": "W-6h-4tteGw1",
        "colab_type": "code",
        "colab": {}
      },
      "cell_type": "code",
      "source": [
        "def pool_forward(A_prev, hparameters, mode = \"max\"):\n",
        "    \"\"\"\n",
        "    Ortaklama katmanı için ileri yönlü hesaplamalar gerçekleştirilir.\n",
        "    \n",
        "    Girdiler:\n",
        "    A_prev -- Giriş verisi {(m, n_H_prev, n_W_prev, n_C_prev) boyutlu Numpy dizisi}\n",
        "    hparameters -- f\" ve \"stride\" değerlerini içeren sözlük {dictionary}\n",
        "    mode -- ortaklama türü (\"max\" ya da \"average\")\n",
        "    \n",
        "    Çıktılar:\n",
        "    A -- Ortaklama katmanı çıkışı {(m, n_H, n_W, n_C) boyutlu Numpy dizisi}\n",
        "    cache -- Geriye yayılımda kullanılacak giriş değeri ile hparameters değerlerini içerir.\n",
        "    \"\"\"\n",
        "    \n",
        "    # Giriş değerinin boyutlarını bulalım\n",
        "    (m, n_H_prev, n_W_prev, n_C_prev) = A_prev.shape\n",
        "    \n",
        "    # \"hparameters\" sözlüğünden hiperparametreleri alalım\n",
        "    f = hparameters[\"f\"]\n",
        "    stride = hparameters[\"stride\"]\n",
        "    \n",
        "    # Çıkış değerinin boyutlarını tanımlayalım\n",
        "    n_H = int(1 + (n_H_prev - f) / stride)\n",
        "    n_W = int(1 + (n_W_prev - f) / stride)\n",
        "    n_C = n_C_prev\n",
        "    \n",
        "    # A matrisini ilklendirelim\n",
        "    A = np.zeros((m, n_H, n_W, n_C))              \n",
        "    \n",
        "    for i in range(m):                          # eğitim örnekleri üzerinde döngü\n",
        "        for h in range(n_H):                    # çıkış değerinin dikey ekseninde döngü\n",
        "            for w in range(n_W):                # çıkış değerinin yatay ekseninde döngü\n",
        "                for c in range (n_C):           # çıkış değerinin kanalları üzerinde döngü\n",
        "                    \n",
        "                    # Köşeleri bulalım\n",
        "                    vert_start = h*stride\n",
        "                    vert_end = vert_start + f\n",
        "                    horiz_start = w*stride\n",
        "                    horiz_end = horiz_start + f\n",
        "                    \n",
        "                    # i. eğitim örneği için köşe değerleri, A_prev ve kanal c'yi kullanalım\n",
        "                    a_prev_slice = A_prev[i, vert_start:vert_end, horiz_start:horiz_end, c]\n",
        "                    \n",
        "                    # Ortaklama işlemini moda (max ya da average) gerçekleştirelim\n",
        "                    if mode == \"max\":\n",
        "                        A[i, h, w, c] = np.max(a_prev_slice)\n",
        "                    elif mode == \"average\":\n",
        "                        A[i, h, w, c] = np.mean(a_prev_slice)\n",
        "        \n",
        "    # Giriş ve hiperparametreler değerlerini geriye yayılımda kullanmak üzere saklayalım\n",
        "    cache = (A_prev, hparameters)\n",
        "    \n",
        "    # Çıkış değerinin doğrulığunu  kontrol edelim\n",
        "    assert(A.shape == (m, n_H, n_W, n_C))\n",
        "    \n",
        "    return A, cache"
      ],
      "execution_count": 0,
      "outputs": []
    },
    {
      "metadata": {
        "id": "70pgH6q0eGw3",
        "colab_type": "code",
        "colab": {
          "base_uri": "https://localhost:8080/",
          "height": 204
        },
        "outputId": "7eed2e78-bfb4-4207-bee8-36e004d49311"
      },
      "cell_type": "code",
      "source": [
        "np.random.seed(1)\n",
        "A_prev = np.random.randn(2, 4, 4, 3)\n",
        "hparameters = {\"stride\" : 2, \"f\": 3}\n",
        "\n",
        "A, cache = pool_forward(A_prev, hparameters)\n",
        "\n",
        "print(\"mod = max\")\n",
        "print(\"A =\", A)\n",
        "print()\n",
        "\n",
        "A, cache = pool_forward(A_prev, hparameters, mode = \"average\")\n",
        "\n",
        "print(\"mod = average\")\n",
        "print(\"A =\", A)"
      ],
      "execution_count": 9,
      "outputs": [
        {
          "output_type": "stream",
          "text": [
            "mod = max\n",
            "A = [[[[1.74481176 0.86540763 1.13376944]]]\n",
            "\n",
            "\n",
            " [[[1.13162939 1.51981682 2.18557541]]]]\n",
            "\n",
            "mod = average\n",
            "A = [[[[ 0.02105773 -0.20328806 -0.40389855]]]\n",
            "\n",
            "\n",
            " [[[-0.22154621  0.51716526  0.48155844]]]]\n"
          ],
          "name": "stdout"
        }
      ]
    },
    {
      "metadata": {
        "id": "AJhZLPpaeGw7",
        "colab_type": "text"
      },
      "cell_type": "markdown",
      "source": [
        "Tebrikler! Evrişim katmanının ileri yönlü hesaplamalarını tamamladık. Şimdi de geriye yayılımı gerçekleştirelim."
      ]
    },
    {
      "metadata": {
        "id": "_-l6AdrpeGw8",
        "colab_type": "text"
      },
      "cell_type": "markdown",
      "source": [
        "## 5 - Evrişimli Sinir Ağlarında Geriye Yayılım\n",
        "\n",
        "Modern derin öğrenme kütüphanelerinde siz sadece ileri yönlü hesaplamaları gerçeklersiniz kütüphaneler geriye yayılımı halleder. Bu yüzden  derin öğrenme mühendisleri geriye yayılımla alakalı genelde problem yaşamazlar. Evrişimli sinir ağlarında geriye yayılım biraz karmaşıktır. \n",
        "\n",
        "Evrişim sinir ağlarında, klasik yapay sinir ağlarındakine benzer bir şekilde, parametreleri güncellemek için kısmi türev alma (gradyan) işlemini uygularız. \n",
        "\n",
        "### 5.1 - Geri Yönlü Hesaplama \n",
        "\n",
        "İlk olarak CONV katmanının geriye yayılımı gerçekleyelim.\n",
        "\n",
        "#### 5.1.1 - dA'nın Hesaplanması:\n",
        "\n",
        "$$ dA += \\sum _{h=0} ^{n_H} \\sum_{w=0} ^{n_W} W_c \\times dZ_{hw} \\tag{1}$$\n",
        "\n",
        "#### 5.1.2 - dW'nin Hesaplanması:\n",
        "\n",
        "$$ dW_c  += \\sum _{h=0} ^{n_H} \\sum_{w=0} ^ {n_W} a_{slice} \\times dZ_{hw}  \\tag{2}$$\n",
        "\n",
        "#### 5.1.3 - db'nin Hesaplanması:\n",
        "\n",
        "$$ db = \\sum_h \\sum_w dZ_{hw} \\tag{3}$$"
      ]
    },
    {
      "metadata": {
        "id": "tXxoBBA7eGw8",
        "colab_type": "code",
        "colab": {}
      },
      "cell_type": "code",
      "source": [
        "def conv_backward(dZ, cache):\n",
        "    \"\"\"\n",
        "    Evrişim fonksiyonu için geriye yayılım\n",
        "    \n",
        "    Girdiler:\n",
        "    dZ -- maliyetin evrişim katmanının (Z) çıkışına göre gradyanı {(m, n_H, n_W, n_C) boyutlu Numpy dizisi}\n",
        "    cache -- conv_backward() için conv_forward() fonksiyonunun çıkış değerleri\n",
        "    \n",
        "    Çıktılar:\n",
        "    dA_prev -- Maliyetin evrişim katmanının girişine (A_prev) göre gradyanı \n",
        "               (m, n_H_prev, n_W_prev, n_C_prev) boyutlu Numpy dizis\n",
        "    dW -- Maliyetin evrişim katmanının ağırlığına (W) göre gradyanı \n",
        "          (f, f, n_C_prev, n_C) boyutlu Numpy dizisi\n",
        "    db -- Maliyetin evrişim katmanının bias değerlerine (b) göre gradyanı\n",
        "          (1, 1, 1, n_C) boyutlu Numpy dizisi\n",
        "    \"\"\"\n",
        "    \n",
        "    # \"cache\" dan geçici değerleri alalım\n",
        "    (A_prev, W, b, hparameters) = cache\n",
        "    \n",
        "    # A_prev'in boyutunu bulalım\n",
        "    (m, n_H_prev, n_W_prev, n_C_prev) = A_prev.shape\n",
        "    \n",
        "    # W'nin boyutunu bulalım\n",
        "    (f, f, n_C_prev, n_C) = W.shape\n",
        "    \n",
        "    # \"hparameters\" den hiperparametreleri alalım\n",
        "    stride = hparameters['stride']\n",
        "    pad = hparameters['pad']\n",
        "    \n",
        "    # dZ'nin boyutunu bulalım\n",
        "    (m, n_H, n_W, n_C) = dZ.shape\n",
        "    \n",
        "    # dA_prev, dW ve db'yi ilklendirelim\n",
        "    dA_prev = np.zeros((m, n_H_prev, n_W_prev, n_C_prev))                           \n",
        "    dW = np.zeros((f,f, n_C_prev, n_C))\n",
        "    db = np.zeros((1, 1, 1, n_C))\n",
        "\n",
        "    # Sıfır pikselleri ekleyelim\n",
        "    A_prev_pad = zero_pad(A_prev, pad)\n",
        "    dA_prev_pad = zero_pad(dA_prev, pad)\n",
        "    \n",
        "    for i in range(m):                       # eğitim örnekleri üzerinde döngü\n",
        "        \n",
        "        # eğitim örneğini seçelim\n",
        "        a_prev_pad = A_prev_pad[i]\n",
        "        da_prev_pad = dA_prev_pad[i]\n",
        "        \n",
        "        for h in range(n_H):                   # çıkış değerinin dikey ekseninde döngü\n",
        "            for w in range(n_W):               # çıkış değerinin yatay ekseninde döngü\n",
        "                for c in range(n_C):           # çıkış değerinin kanalları üzerinde döngü\n",
        "                    \n",
        "                    # Köşeleri bulalım\n",
        "                    vert_start = h\n",
        "                    vert_end = vert_start + f\n",
        "                    horiz_start = w\n",
        "                    horiz_end = horiz_start + f\n",
        "                    \n",
        "                    # keöşeleri kullanarak a_prev_pad üzerinde dilimi hesaplayalım\n",
        "                    a_slice = a_prev_pad[vert_start:vert_end, horiz_start:horiz_end, :]\n",
        "\n",
        "                    # Pencere için gradyanları ve filtre parametrelerini güncelleyelim\n",
        "                    da_prev_pad[vert_start:vert_end, horiz_start:horiz_end, :] += W[:,:,:,c] * dZ[i, h, w, c]\n",
        "                    dW[:,:,:,c] += a_slice * dZ[i, h, w, c]\n",
        "                    db[:,:,:,c] += dZ[i, h, w, c]\n",
        "                    \n",
        "        dA_prev[i, :, :, :] = da_prev_pad[pad:-pad, pad:-pad, :]\n",
        "    \n",
        "    # Çıkış boyutunun doğruluğunun kontrol edelim\n",
        "    assert(dA_prev.shape == (m, n_H_prev, n_W_prev, n_C_prev))\n",
        "    \n",
        "    return dA_prev, dW, db"
      ],
      "execution_count": 0,
      "outputs": []
    },
    {
      "metadata": {
        "id": "El_s3rdreGw-",
        "colab_type": "code",
        "colab": {
          "base_uri": "https://localhost:8080/",
          "height": 68
        },
        "outputId": "f0e1cee6-8dee-4fa4-e70b-9db66a9682a6"
      },
      "cell_type": "code",
      "source": [
        "np.random.seed(1)\n",
        "dA, dW, db = conv_backward(Z, cache_conv)\n",
        "\n",
        "print(\"dA ortalama =\", np.mean(dA))\n",
        "print(\"dW ortalama =\", np.mean(dW))\n",
        "print(\"db ortalama =\", np.mean(db))"
      ],
      "execution_count": 11,
      "outputs": [
        {
          "output_type": "stream",
          "text": [
            "dA ortalama = 0.6347704472654743\n",
            "dW ortalama = 1.5572657428497354\n",
            "db ortalama = 7.839232564616838\n"
          ],
          "name": "stdout"
        }
      ]
    },
    {
      "metadata": {
        "id": "AQoI7pG7eGxB",
        "colab_type": "text"
      },
      "cell_type": "markdown",
      "source": [
        "## 5.2 Ortaklama Katmanı - Geriye Yayılım\n",
        "\n",
        "Ortaklama katmanında güncellenecek parametre olmamasına rağmen önceki katmanları hesaplamak için yine de geriye yayılımı gerçekleştirmenzi gerekmektedir.\n",
        "\n",
        "### 5.2.1 Maksimum Ortaklama - Geriye Yayılım  \n",
        "\n",
        "İlk olarak maksimum değerin konumunu 1 ve diğerlerini 0 yapan `create_mask_from_window()` fonksiyonunu tanımlayalım. \n",
        "\n",
        "$$ X = \\begin{bmatrix}\n",
        "1 && 3 \\\\\n",
        "4 && 2\n",
        "\\end{bmatrix} \\quad \\rightarrow  \\quad M =\\begin{bmatrix}\n",
        "0 && 0 \\\\\n",
        "1 && 0\n",
        "\\end{bmatrix}\\tag{4}$$\n",
        "\n",
        "Yukarıda da görebileceğiniz üzere maske matrisi en büyük değerin konum bilgisini tutmaktadır. Maksimum değerde True(1) değeri var iken diğer değerler False(0) olarak tanımlanmaktadır."
      ]
    },
    {
      "metadata": {
        "id": "VQU5GeV3eGxC",
        "colab_type": "code",
        "colab": {}
      },
      "cell_type": "code",
      "source": [
        "def create_mask_from_window(x):\n",
        "    \"\"\"\n",
        "    x giriş matrisinden en büyük değeri bulmak için maske oluşturur. \n",
        "    \n",
        "    Girdi:\n",
        "    x -- (f, f) boyutlu dizi\n",
        "    \n",
        "    Çıktı:\n",
        "    mask -- x penceresi ile aynı boyutta ve x'in en büyük elemanına karşılık gelen konumda True.\n",
        "    \"\"\"\n",
        "    \n",
        "    mask = x == np.max(x)\n",
        "    \n",
        "    return mask"
      ],
      "execution_count": 0,
      "outputs": []
    },
    {
      "metadata": {
        "id": "0x57t79geGxE",
        "colab_type": "code",
        "colab": {
          "base_uri": "https://localhost:8080/",
          "height": 85
        },
        "outputId": "dc303f4e-9b48-4516-8e06-2b523307e8f1"
      },
      "cell_type": "code",
      "source": [
        "np.random.seed(1)\n",
        "x = np.random.randn(2,3)\n",
        "mask = create_mask_from_window(x)\n",
        "\n",
        "print('x = ', x)\n",
        "print(\"maske = \", mask)"
      ],
      "execution_count": 13,
      "outputs": [
        {
          "output_type": "stream",
          "text": [
            "x =  [[ 1.62434536 -0.61175641 -0.52817175]\n",
            " [-1.07296862  0.86540763 -2.3015387 ]]\n",
            "maske =  [[ True False False]\n",
            " [False False False]]\n"
          ],
          "name": "stdout"
        }
      ]
    },
    {
      "metadata": {
        "id": "xGwHQZNHeGxI",
        "colab_type": "text"
      },
      "cell_type": "markdown",
      "source": [
        "En büyük değeri neden tutuyoruz? İleri yönlü hesaplama sonrasında çıkışta oluşacak hataya etki eden değer maksimum değerdir. Geriye yayılım esnasında hataya etki eden değerin sıfırdan farklı bir gradyan değerine sahip olması gerekir. Hata geri yayılırken maksimum değer üzerinden yayılır. "
      ]
    },
    {
      "metadata": {
        "id": "tacwPFgJeGxI",
        "colab_type": "text"
      },
      "cell_type": "markdown",
      "source": [
        "### 5.2.2 - Ortalama Ortaklama - Geriye Yayılım\n",
        "\n",
        "Maksimum ortaklamada yalnızca en büyük değer çıkıştaki değere etki ederken, ortalama ortaklamada her bir değer eşit oranda etki eder.\n",
        "\n",
        "Örneğin ileri yönlü hesaplamada 2x2 boyutlu filtre ile ortalama ortaklama yaparsak, geriye yayılım sırasında kullanacağımız maske şöyle olur:  \n",
        "$$ dZ = 1 \\quad \\rightarrow  \\quad dZ =\\begin{bmatrix}\n",
        "1/4 && 1/4 \\\\\n",
        "1/4 && 1/4\n",
        "\\end{bmatrix}\\tag{5}$$"
      ]
    },
    {
      "metadata": {
        "id": "b1QJreQjeGxJ",
        "colab_type": "code",
        "colab": {}
      },
      "cell_type": "code",
      "source": [
        "def distribute_value(dz, shape):\n",
        "    \"\"\"\n",
        "    Giriş değerini matris elemanlarına dağıtma.\n",
        "    \n",
        "    Girdi:\n",
        "    dz -- skaler giriş değeri\n",
        "    shape -- (n_H, n_W) boyutlu dizi\n",
        "    \n",
        "    Çıktı:\n",
        "    a -- dz dağıtılmış (n_H, n_W) boyutlu dizi\n",
        "    \"\"\"\n",
        "    \n",
        "    # shape'in boyutunu bulalım\n",
        "    (n_H, n_W) = shape\n",
        "    \n",
        "    # Matris üzerinde dağıtılacak değeri hesaplayalım \n",
        "    average = dz / (n_H * n_W)\n",
        "    \n",
        "    # Her bir değeri \"average\" olan matris oluşturalım\n",
        "    a =  np.ones(shape) * average\n",
        "    \n",
        "    return a"
      ],
      "execution_count": 0,
      "outputs": []
    },
    {
      "metadata": {
        "id": "0WRZqYfaeGxM",
        "colab_type": "code",
        "colab": {
          "base_uri": "https://localhost:8080/",
          "height": 51
        },
        "outputId": "b532959e-ace0-4586-dab3-5275bd13c862"
      },
      "cell_type": "code",
      "source": [
        "a = distribute_value(2, (2,2))\n",
        "print('Dağıtılmış değer =', a)"
      ],
      "execution_count": 15,
      "outputs": [
        {
          "output_type": "stream",
          "text": [
            "Dağıtılmış değer = [[0.5 0.5]\n",
            " [0.5 0.5]]\n"
          ],
          "name": "stdout"
        }
      ]
    },
    {
      "metadata": {
        "id": "TmY7IBFseGxN",
        "colab_type": "text"
      },
      "cell_type": "markdown",
      "source": [
        "### 5.2.3 Ortaklama için Geriye Yayılım\n",
        "\n",
        "**Örnek**: `pool_backward` fonksiyonunu her iki mod için (`\"max\"` ve `\"average\"`) tanımlayalım. 4 adet for-döngüsü (örnekler, yükseklik, genişlik ve kanal için) kullanacağız. "
      ]
    },
    {
      "metadata": {
        "id": "aGX4fK1seGxO",
        "colab_type": "code",
        "colab": {}
      },
      "cell_type": "code",
      "source": [
        "def pool_backward(dA, cache, mode = \"max\"):\n",
        "    \"\"\"\n",
        "    Ortaklama katmanı için geriye yayılımı gerçekler.\n",
        "    \n",
        "    Girdi:\n",
        "    dA -- Maliyetin çıkış değerine göre gradyanı. {A ile aynı boyuta sahip}\n",
        "    cache -- \"input\" ve \"hparameters\" değerleri içeren ileri yönlü hesaplamada kaydedilen geçici değerler \n",
        "    mode -- ortaklama modu (\"max\" ya da \"average\")\n",
        "    \n",
        "    Çıktı:\n",
        "    dA_prev -- Maliyetin giriş değerine göre gradyanı. {A_prev ile aynı boyuta sahip}\n",
        "    \"\"\"\n",
        "        \n",
        "    # Geçici değerlerleri alalım\n",
        "    (A_prev, hparameters) = cache\n",
        "    \n",
        "    # \"hparameters\" den hiperparametreleri alalım\n",
        "    stride = hparameters['stride']\n",
        "    f = hparameters['f']\n",
        "    \n",
        "    # A_prev ve dA'nın boyutunu bulalım\n",
        "    m, n_H_prev, n_W_prev, n_C_prev = A_prev.shape\n",
        "    m, n_H, n_W, n_C = dA.shape\n",
        "    \n",
        "    # dA_prev'i sıfır değerleri ile ilklendirelim\n",
        "    dA_prev = np.zeros(A_prev.shape)\n",
        " \n",
        "    for i in range(m):                       # eğitim örnekleri üzerinde döngü\n",
        "        \n",
        "        # Eğitim örneğini seçelim\n",
        "        a_prev = A_prev[i]\n",
        "        \n",
        "        for h in range(n_H):                   # dikey eksende döngü\n",
        "            for w in range(n_W):               # yatay eksende döngü\n",
        "                for c in range(n_C):           # kanallar üzerinde döngü\n",
        "                    \n",
        "                    # Köşeleri bulalım\n",
        "                    vert_start = h\n",
        "                    vert_end = vert_start + f\n",
        "                    horiz_start = w\n",
        "                    horiz_end = horiz_start + f\n",
        "                    \n",
        "                    # Her iki mod için geriye yayılımı hesaplayalım\n",
        "                    if mode == \"max\":\n",
        "                        \n",
        "                        # köşeleri ve c kanalı için dilimi bulma\n",
        "                        a_prev_slice = a_prev[vert_start:vert_end, horiz_start:horiz_end, c]\n",
        "                        # a_prev_slice'dan maske oluşturma\n",
        "                        mask = create_mask_from_window(a_prev_slice)\n",
        "                        # Set dA_prev to be dA_prev + (the mask multiplied by the correct entry of dA) (≈1 line)\n",
        "                        dA_prev[i, vert_start: vert_end, horiz_start: horiz_end, c] += np.multiply(mask, dA[i, h, w, c])\n",
        "                        \n",
        "                    elif mode == \"average\":\n",
        "                        \n",
        "                        # dA'dan a değerini alalım\n",
        "                        da = dA[i,h,w,c]\n",
        "                        # fxf boyutlu filtre tanımlayalım\n",
        "                        shape = (f,f)\n",
        "                        dA_prev[i, vert_start: vert_end, horiz_start: horiz_end, c] += distribute_value(da, shape)\n",
        "                            \n",
        "    # Çıkış değerinin doğruluğunun kontrol edelim\n",
        "    assert(dA_prev.shape == A_prev.shape)\n",
        "    \n",
        "    return dA_prev"
      ],
      "execution_count": 0,
      "outputs": []
    },
    {
      "metadata": {
        "id": "L2tZ1Ry2eGxU",
        "colab_type": "code",
        "colab": {},
        "outputId": "cfa24961-9060-416e-81bd-5f6a1e0754dc"
      },
      "cell_type": "code",
      "source": [
        "np.random.seed(1)\n",
        "A_prev = np.random.randn(5, 5, 3, 2)\n",
        "hparameters = {\"stride\" : 1, \"f\": 2}\n",
        "A, cache = pool_forward(A_prev, hparameters)\n",
        "dA = np.random.randn(5, 4, 2, 2)\n",
        "\n",
        "dA_prev = pool_backward(dA, cache, mode = \"max\")\n",
        "\n",
        "print(\"mod = max\")\n",
        "print('dA ortalaması = ', np.mean(dA))\n",
        "print('dA_prev[1,1] = ', dA_prev[1,1])  \n",
        "print()\n",
        "\n",
        "dA_prev = pool_backward(dA, cache, mode = \"average\")\n",
        "\n",
        "print(\"mod = average\")\n",
        "print('dA ortalaması = ', np.mean(dA))\n",
        "print('dA_prev[1,1] = ', dA_prev[1,1]) "
      ],
      "execution_count": 0,
      "outputs": [
        {
          "output_type": "stream",
          "text": [
            "mod = max\n",
            "dA ortalaması =  0.14571390272918056\n",
            "dA_prev[1,1] =  [[ 0.          0.        ]\n",
            " [ 5.05844394 -1.68282702]\n",
            " [ 0.          0.        ]]\n",
            "\n",
            "mod = average\n",
            "dA ortalaması =  0.14571390272918056\n",
            "dA_prev[1,1] =  [[ 0.08485462  0.2787552 ]\n",
            " [ 1.26461098 -0.25749373]\n",
            " [ 1.17975636 -0.53624893]]\n"
          ],
          "name": "stdout"
        }
      ]
    }
  ]
}