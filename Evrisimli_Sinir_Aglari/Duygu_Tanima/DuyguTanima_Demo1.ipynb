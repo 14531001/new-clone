{
  "nbformat": 4,
  "nbformat_minor": 0,
  "metadata": {
    "colab": {
      "name": "DuyguTanima_Demo1.ipynb",
      "version": "0.3.2",
      "provenance": [],
      "collapsed_sections": []
    },
    "kernelspec": {
      "name": "python3",
      "display_name": "Python 3"
    },
    "accelerator": "GPU"
  },
  "cells": [
    {
      "metadata": {
        "id": "QYhfxVfCpdkD",
        "colab_type": "text"
      },
      "cell_type": "markdown",
      "source": [
        "# DUYGU TANIMA - KAGGLE VERİ KÜMESİ\n",
        "\n",
        "**Kaynak:** [KAGGLE- Challenges in Representation Learning: Facial Expression Recognition Challenge](https://www.kaggle.com/c/challenges-in-representation-learning-facial-expression-recognition-challenge/data)\n",
        "\n",
        "**Ek kaynaklar:** \n",
        "\n",
        "1. [Ön İşlemler](https://github.com/Hanzhuo/Facial-Expression-Recognition-with-TensorFlow-Convolutional-Neural-Networks/blob/master/CNN_Facial_Expression_Recogonition.ipynb)\n",
        "2. [Eğitim ve Model](https://github.com/piyush2896/Facial-Expression-Recognition-Challenge/blob/master/Facial-Expression-Recognition-Challenge.ipynb)\n",
        "3. [Görselleştirme ve ek tanımlamalar](https://github.com/sachin-kmr/ML-Facial-Expression-Recognition/blob/master/exp_recognition.ipynb)\n",
        "4. [**Destekleyici Blog Yazısı** - Furkan Kınlı - Deep Learning Türkiye](https://medium.com/deep-learning-turkey/deep-learning-lab-episode-3-fer2013-c38f2e052280)\n",
        "\n",
        "---\n",
        "\n",
        "[<img align=\"left\" width=\"100\" height=\"100\" src=\"http://www.i2symbol.com/images/symbols/style-letters/circled_latin_capital_letter_a_u24B6_icon_128x128.png\">](https://www.ayyucekizrak.com/)\n",
        "[<img align=\"right\" width=\"200\" height=\"50\"  src=\"https://raw.githubusercontent.com/deeplearningturkiye/pratik-derin-ogrenme-uygulamalari/944a247d404741ba37b9ef74de0716acff6fd4f9/images/dltr_logo.png\">](https://deeplearningturkiye.com/)"
      ]
    },
    {
      "metadata": {
        "id": "h7HKTNvuZgPh",
        "colab_type": "text"
      },
      "cell_type": "markdown",
      "source": [
        "Drive Hesap Doğrulama"
      ]
    },
    {
      "metadata": {
        "id": "2fzEuCRKZTdq",
        "colab_type": "code",
        "colab": {
          "base_uri": "https://localhost:8080/",
          "height": 2366
        },
        "outputId": "7e802a23-6c23-49cb-90ec-1575b9ea46fa"
      },
      "cell_type": "code",
      "source": [
        "!apt-get install -y -qq software-properties-common python-software-properties module-init-tools\n",
        "!add-apt-repository -y ppa:alessandro-strada/ppa 2>&1 > /dev/null\n",
        "!apt-get update -qq 2>&1 > /dev/null\n",
        "!apt-get -y install -qq google-drive-ocamlfuse fuse\n",
        "from google.colab import auth\n",
        "auth.authenticate_user()\n",
        "from oauth2client.client import GoogleCredentials\n",
        "creds = GoogleCredentials.get_application_default()\n",
        "import getpass\n",
        "!google-drive-ocamlfuse -headless -id={creds.client_id} -secret={creds.client_secret} < /dev/null 2>&1 | grep URL\n",
        "vcode = getpass.getpass()\n",
        "!echo {vcode} | google-drive-ocamlfuse -headless -id={creds.client_id} -secret={creds.client_secret}"
      ],
      "execution_count": 1,
      "outputs": [
        {
          "output_type": "stream",
          "text": [
            "Preconfiguring packages ...\n",
            "Selecting previously unselected package cron.\n",
            "(Reading database ... 18408 files and directories currently installed.)\n",
            "Preparing to unpack .../00-cron_3.0pl1-128ubuntu5_amd64.deb ...\n",
            "Unpacking cron (3.0pl1-128ubuntu5) ...\n",
            "Selecting previously unselected package libapparmor1:amd64.\n",
            "Preparing to unpack .../01-libapparmor1_2.11.0-2ubuntu17.1_amd64.deb ...\n",
            "Unpacking libapparmor1:amd64 (2.11.0-2ubuntu17.1) ...\n",
            "Selecting previously unselected package libdbus-1-3:amd64.\n",
            "Preparing to unpack .../02-libdbus-1-3_1.10.22-1ubuntu1_amd64.deb ...\n",
            "Unpacking libdbus-1-3:amd64 (1.10.22-1ubuntu1) ...\n",
            "Selecting previously unselected package dbus.\n",
            "Preparing to unpack .../03-dbus_1.10.22-1ubuntu1_amd64.deb ...\n",
            "Unpacking dbus (1.10.22-1ubuntu1) ...\n",
            "Selecting previously unselected package dirmngr.\n",
            "Preparing to unpack .../04-dirmngr_2.1.15-1ubuntu8.1_amd64.deb ...\n",
            "Unpacking dirmngr (2.1.15-1ubuntu8.1) ...\n",
            "Selecting previously unselected package distro-info-data.\n",
            "Preparing to unpack .../05-distro-info-data_0.36ubuntu0.2_all.deb ...\n",
            "Unpacking distro-info-data (0.36ubuntu0.2) ...\n",
            "Selecting previously unselected package libkmod2:amd64.\n",
            "Preparing to unpack .../06-libkmod2_24-1ubuntu2_amd64.deb ...\n",
            "Unpacking libkmod2:amd64 (24-1ubuntu2) ...\n",
            "Selecting previously unselected package kmod.\n",
            "Preparing to unpack .../07-kmod_24-1ubuntu2_amd64.deb ...\n",
            "Unpacking kmod (24-1ubuntu2) ...\n",
            "Selecting previously unselected package lsb-release.\n",
            "Preparing to unpack .../08-lsb-release_9.20160110ubuntu5_all.deb ...\n",
            "Unpacking lsb-release (9.20160110ubuntu5) ...\n",
            "Selecting previously unselected package libgirepository-1.0-1:amd64.\n",
            "Preparing to unpack .../09-libgirepository-1.0-1_1.54.1-1_amd64.deb ...\n",
            "Unpacking libgirepository-1.0-1:amd64 (1.54.1-1) ...\n",
            "Selecting previously unselected package gir1.2-glib-2.0:amd64.\n",
            "Preparing to unpack .../10-gir1.2-glib-2.0_1.54.1-1_amd64.deb ...\n",
            "Unpacking gir1.2-glib-2.0:amd64 (1.54.1-1) ...\n",
            "Selecting previously unselected package iso-codes.\n",
            "Preparing to unpack .../11-iso-codes_3.75-1_all.deb ...\n",
            "Unpacking iso-codes (3.75-1) ...\n",
            "Selecting previously unselected package libdbus-glib-1-2:amd64.\n",
            "Preparing to unpack .../12-libdbus-glib-1-2_0.108-2_amd64.deb ...\n",
            "Unpacking libdbus-glib-1-2:amd64 (0.108-2) ...\n",
            "Selecting previously unselected package python-apt-common.\n",
            "Preparing to unpack .../13-python-apt-common_1.4.0~beta3build2_all.deb ...\n",
            "Unpacking python-apt-common (1.4.0~beta3build2) ...\n",
            "Selecting previously unselected package python3-apt.\n",
            "Preparing to unpack .../14-python3-apt_1.4.0~beta3build2_amd64.deb ...\n",
            "Unpacking python3-apt (1.4.0~beta3build2) ...\n",
            "Selecting previously unselected package python3-dbus.\n",
            "Preparing to unpack .../15-python3-dbus_1.2.4-1build3_amd64.deb ...\n",
            "Unpacking python3-dbus (1.2.4-1build3) ...\n",
            "Selecting previously unselected package python3-gi.\n",
            "Preparing to unpack .../16-python3-gi_3.24.1-2build1_amd64.deb ...\n",
            "Unpacking python3-gi (3.24.1-2build1) ...\n",
            "Selecting previously unselected package module-init-tools.\n",
            "Preparing to unpack .../17-module-init-tools_24-1ubuntu2_all.deb ...\n",
            "Unpacking module-init-tools (24-1ubuntu2) ...\n",
            "Selecting previously unselected package python-apt.\n",
            "Preparing to unpack .../18-python-apt_1.4.0~beta3build2_amd64.deb ...\n",
            "Unpacking python-apt (1.4.0~beta3build2) ...\n",
            "Selecting previously unselected package python-pycurl.\n",
            "Preparing to unpack .../19-python-pycurl_7.43.0-2build2_amd64.deb ...\n",
            "Unpacking python-pycurl (7.43.0-2build2) ...\n",
            "Selecting previously unselected package python-software-properties.\n",
            "Preparing to unpack .../20-python-software-properties_0.96.24.17_all.deb ...\n",
            "Unpacking python-software-properties (0.96.24.17) ...\n",
            "Selecting previously unselected package python3-software-properties.\n",
            "Preparing to unpack .../21-python3-software-properties_0.96.24.17_all.deb ...\n",
            "Unpacking python3-software-properties (0.96.24.17) ...\n",
            "Selecting previously unselected package software-properties-common.\n",
            "Preparing to unpack .../22-software-properties-common_0.96.24.17_all.deb ...\n",
            "Unpacking software-properties-common (0.96.24.17) ...\n",
            "Selecting previously unselected package unattended-upgrades.\n",
            "Preparing to unpack .../23-unattended-upgrades_0.98ubuntu1.1_all.deb ...\n",
            "Unpacking unattended-upgrades (0.98ubuntu1.1) ...\n",
            "Setting up python-apt-common (1.4.0~beta3build2) ...\n",
            "Setting up python3-apt (1.4.0~beta3build2) ...\n",
            "Setting up iso-codes (3.75-1) ...\n",
            "Setting up distro-info-data (0.36ubuntu0.2) ...\n",
            "Setting up python-pycurl (7.43.0-2build2) ...\n",
            "Setting up lsb-release (9.20160110ubuntu5) ...\n",
            "Setting up libgirepository-1.0-1:amd64 (1.54.1-1) ...\n",
            "Setting up libkmod2:amd64 (24-1ubuntu2) ...\n",
            "Setting up gir1.2-glib-2.0:amd64 (1.54.1-1) ...\n",
            "Processing triggers for libc-bin (2.26-0ubuntu2.1) ...\n",
            "Setting up libapparmor1:amd64 (2.11.0-2ubuntu17.1) ...\n",
            "Setting up unattended-upgrades (0.98ubuntu1.1) ...\n",
            "\n",
            "Creating config file /etc/apt/apt.conf.d/20auto-upgrades with new version\n",
            "\n",
            "Creating config file /etc/apt/apt.conf.d/50unattended-upgrades with new version\n",
            "invoke-rc.d: could not determine current runlevel\n",
            "invoke-rc.d: policy-rc.d denied execution of start.\n",
            "Setting up dirmngr (2.1.15-1ubuntu8.1) ...\n",
            "Setting up cron (3.0pl1-128ubuntu5) ...\n",
            "Adding group `crontab' (GID 102) ...\n",
            "Done.\n",
            "update-rc.d: warning: start and stop actions are no longer supported; falling back to defaults\n",
            "update-rc.d: warning: stop runlevel arguments (1) do not match cron Default-Stop values (none)\n",
            "invoke-rc.d: could not determine current runlevel\n",
            "invoke-rc.d: policy-rc.d denied execution of start.\n",
            "Setting up libdbus-1-3:amd64 (1.10.22-1ubuntu1) ...\n",
            "Setting up kmod (24-1ubuntu2) ...\n",
            "Setting up libdbus-glib-1-2:amd64 (0.108-2) ...\n",
            "Setting up python3-gi (3.24.1-2build1) ...\n",
            "Setting up module-init-tools (24-1ubuntu2) ...\n",
            "Setting up python3-software-properties (0.96.24.17) ...\n",
            "Setting up dbus (1.10.22-1ubuntu1) ...\n",
            "Setting up python-apt (1.4.0~beta3build2) ...\n",
            "Setting up python3-dbus (1.2.4-1build3) ...\n",
            "Setting up python-software-properties (0.96.24.17) ...\n",
            "Setting up software-properties-common (0.96.24.17) ...\n",
            "Processing triggers for libc-bin (2.26-0ubuntu2.1) ...\n",
            "Processing triggers for dbus (1.10.22-1ubuntu1) ...\n",
            "gpg: keybox '/tmp/tmprgkhcbz3/pubring.gpg' created\n",
            "gpg: /tmp/tmprgkhcbz3/trustdb.gpg: trustdb created\n",
            "gpg: key AD5F235DF639B041: public key \"Launchpad PPA for Alessandro Strada\" imported\n",
            "gpg: Total number processed: 1\n",
            "gpg:               imported: 1\n",
            "Warning: apt-key output should not be parsed (stdout is not a terminal)\n",
            "Selecting previously unselected package libfuse2:amd64.\n",
            "(Reading database ... 19816 files and directories currently installed.)\n",
            "Preparing to unpack .../libfuse2_2.9.7-1ubuntu1_amd64.deb ...\n",
            "Unpacking libfuse2:amd64 (2.9.7-1ubuntu1) ...\n",
            "Selecting previously unselected package fuse.\n",
            "Preparing to unpack .../fuse_2.9.7-1ubuntu1_amd64.deb ...\n",
            "Unpacking fuse (2.9.7-1ubuntu1) ...\n",
            "Selecting previously unselected package google-drive-ocamlfuse.\n",
            "Preparing to unpack .../google-drive-ocamlfuse_0.6.21-0ubuntu2_amd64.deb ...\n",
            "Unpacking google-drive-ocamlfuse (0.6.21-0ubuntu2) ...\n",
            "Setting up libfuse2:amd64 (2.9.7-1ubuntu1) ...\n",
            "Processing triggers for libc-bin (2.26-0ubuntu2.1) ...\n",
            "Setting up fuse (2.9.7-1ubuntu1) ...\n",
            "Setting up google-drive-ocamlfuse (0.6.21-0ubuntu2) ...\n",
            "Please, open the following URL in a web browser: https://accounts.google.com/o/oauth2/auth?client_id=32555940559.apps.googleusercontent.com&redirect_uri=urn%3Aietf%3Awg%3Aoauth%3A2.0%3Aoob&scope=https%3A%2F%2Fwww.googleapis.com%2Fauth%2Fdrive&response_type=code&access_type=offline&approval_prompt=force\n",
            "··········\n",
            "Please, open the following URL in a web browser: https://accounts.google.com/o/oauth2/auth?client_id=32555940559.apps.googleusercontent.com&redirect_uri=urn%3Aietf%3Awg%3Aoauth%3A2.0%3Aoob&scope=https%3A%2F%2Fwww.googleapis.com%2Fauth%2Fdrive&response_type=code&access_type=offline&approval_prompt=force\n",
            "Please enter the verification code: Access token retrieved correctly.\n"
          ],
          "name": "stdout"
        }
      ]
    },
    {
      "metadata": {
        "id": "7sQHVGA7ZnP4",
        "colab_type": "code",
        "colab": {}
      },
      "cell_type": "code",
      "source": [
        "!mkdir -p drive\n",
        "!google-drive-ocamlfuse drive"
      ],
      "execution_count": 0,
      "outputs": []
    },
    {
      "metadata": {
        "id": "my6zXka1c5K1",
        "colab_type": "code",
        "colab": {
          "base_uri": "https://localhost:8080/",
          "height": 204
        },
        "outputId": "460a691e-a1ba-49fe-d7ba-7bfbfd4af0a5"
      },
      "cell_type": "code",
      "source": [
        "import os \n",
        "os.chdir(\"/content/drive/\")\n",
        "!pwd\n",
        "!ls"
      ],
      "execution_count": 3,
      "outputs": [
        {
          "output_type": "stream",
          "text": [
            "/content/drive\n",
            "araguler.jpg\t\t\t\t  Python_Giris.ipynb\n",
            "Colab_Kullanım\t\t\t\t  Python Numpy Giriş\n",
            "Colab Notebooks\t\t\t\t  RakamTanima\n",
            "dinazor\t\t\t\t\t  StyleTransfer\n",
            "DuyguTanima\t\t\t\t  TBMM_Corpus\n",
            "EvrisimliSinirAglari\t\t\t  titanic\n",
            "GitHub-Colab.ipynb\t\t\t  Udemy_DerinOgrenmeyeGiris\n",
            "KapsulAglari_MNIST.ipynb\t\t  VeriArtirma\n",
            "NesneTanima\t\t\t\t  Veri_Artirma\n",
            "pratik-derin-ogrenme-uygulamalari-master  YOLO_NesneYeriTespiti\n"
          ],
          "name": "stdout"
        }
      ]
    },
    {
      "metadata": {
        "id": "LLtZEvMGZOOz",
        "colab_type": "code",
        "colab": {
          "base_uri": "https://localhost:8080/",
          "height": 68
        },
        "outputId": "3ae0676c-aeea-420e-fe71-45f5098eb307"
      },
      "cell_type": "code",
      "source": [
        "!ls Udemy_DerinOgrenmeyeGiris/Evrisimli_Sinir_Aglari/Duygu_Tanima"
      ],
      "execution_count": 4,
      "outputs": [
        {
          "output_type": "stream",
          "text": [
            "data\t\t\t\t    duygutanima_demo1.py     images\r\n",
            "DuyguTanima_Demo1 (0e747fd1).ipynb  DuyguTanima_Demo2.ipynb  utils\r\n",
            "DuyguTanima_Demo1.ipynb\t\t    duygutanima_demo2.py\r\n"
          ],
          "name": "stdout"
        }
      ]
    },
    {
      "metadata": {
        "id": "MONari4cZ2Rv",
        "colab_type": "text"
      },
      "cell_type": "markdown",
      "source": [
        "### **UYGULAMA BAŞLANGICI**\n",
        "Gerekli paketlerin yüklenmesi..."
      ]
    },
    {
      "metadata": {
        "id": "7YjYmSgkT88s",
        "colab_type": "code",
        "colab": {
          "base_uri": "https://localhost:8080/",
          "height": 34
        },
        "outputId": "75d72c0f-5bc7-49b1-e35a-429f31d6db68"
      },
      "cell_type": "code",
      "source": [
        "import numpy as np\n",
        "import pandas as pd\n",
        "from matplotlib import pyplot as plt\n",
        "%matplotlib inline\n",
        "\n",
        "import keras\n",
        "from keras.models import Sequential, Model, model_from_json\n",
        "from keras.layers import Dense, Conv2D, Activation, MaxPool2D, Flatten, Dropout, BatchNormalization\n",
        "from keras.utils import np_utils\n",
        "from keras.preprocessing import image\n",
        "from keras.callbacks import ModelCheckpoint"
      ],
      "execution_count": 5,
      "outputs": [
        {
          "output_type": "stream",
          "text": [
            "Using TensorFlow backend.\n"
          ],
          "name": "stderr"
        }
      ]
    },
    {
      "metadata": {
        "id": "Vvn72hilbwe7",
        "colab_type": "text"
      },
      "cell_type": "markdown",
      "source": [
        "**Veri setinin okunması...**\n",
        "\n",
        "Bize verilen veriseti **35887 ** satır ve **3** kolondan oluşuyor."
      ]
    },
    {
      "metadata": {
        "id": "dr2V5AMsZD6g",
        "colab_type": "code",
        "colab": {
          "base_uri": "https://localhost:8080/",
          "height": 34
        },
        "outputId": "b3170be8-5988-40d8-8973-51fcdfa90534"
      },
      "cell_type": "code",
      "source": [
        "root = 'Udemy_DerinOgrenmeyeGiris/Evrisimli_Sinir_Aglari/Duygu_Tanima/'\n",
        "\n",
        "data = pd.read_csv(root + \"data/fer2013/fer2013.csv\")\n",
        "data.shape "
      ],
      "execution_count": 6,
      "outputs": [
        {
          "output_type": "execute_result",
          "data": {
            "text/plain": [
              "(35887, 3)"
            ]
          },
          "metadata": {
            "tags": []
          },
          "execution_count": 6
        }
      ]
    },
    {
      "metadata": {
        "id": "_bJU88v_mOww",
        "colab_type": "text"
      },
      "cell_type": "markdown",
      "source": [
        "**Veriden bir kısım görelim!**"
      ]
    },
    {
      "metadata": {
        "id": "f5Q9B7ENaxjP",
        "colab_type": "code",
        "colab": {
          "base_uri": "https://localhost:8080/",
          "height": 204
        },
        "outputId": "1c6bf31f-763c-48e9-de2f-e8b6fd65d9d6"
      },
      "cell_type": "code",
      "source": [
        "data.head()"
      ],
      "execution_count": 7,
      "outputs": [
        {
          "output_type": "execute_result",
          "data": {
            "text/html": [
              "<div>\n",
              "<style scoped>\n",
              "    .dataframe tbody tr th:only-of-type {\n",
              "        vertical-align: middle;\n",
              "    }\n",
              "\n",
              "    .dataframe tbody tr th {\n",
              "        vertical-align: top;\n",
              "    }\n",
              "\n",
              "    .dataframe thead th {\n",
              "        text-align: right;\n",
              "    }\n",
              "</style>\n",
              "<table border=\"1\" class=\"dataframe\">\n",
              "  <thead>\n",
              "    <tr style=\"text-align: right;\">\n",
              "      <th></th>\n",
              "      <th>emotion</th>\n",
              "      <th>pixels</th>\n",
              "      <th>Usage</th>\n",
              "    </tr>\n",
              "  </thead>\n",
              "  <tbody>\n",
              "    <tr>\n",
              "      <th>0</th>\n",
              "      <td>0</td>\n",
              "      <td>70 80 82 72 58 58 60 63 54 58 60 48 89 115 121...</td>\n",
              "      <td>Training</td>\n",
              "    </tr>\n",
              "    <tr>\n",
              "      <th>1</th>\n",
              "      <td>0</td>\n",
              "      <td>151 150 147 155 148 133 111 140 170 174 182 15...</td>\n",
              "      <td>Training</td>\n",
              "    </tr>\n",
              "    <tr>\n",
              "      <th>2</th>\n",
              "      <td>2</td>\n",
              "      <td>231 212 156 164 174 138 161 173 182 200 106 38...</td>\n",
              "      <td>Training</td>\n",
              "    </tr>\n",
              "    <tr>\n",
              "      <th>3</th>\n",
              "      <td>4</td>\n",
              "      <td>24 32 36 30 32 23 19 20 30 41 21 22 32 34 21 1...</td>\n",
              "      <td>Training</td>\n",
              "    </tr>\n",
              "    <tr>\n",
              "      <th>4</th>\n",
              "      <td>6</td>\n",
              "      <td>4 0 0 0 0 0 0 0 0 0 0 0 3 15 23 28 48 50 58 84...</td>\n",
              "      <td>Training</td>\n",
              "    </tr>\n",
              "  </tbody>\n",
              "</table>\n",
              "</div>"
            ],
            "text/plain": [
              "   emotion                                             pixels     Usage\n",
              "0        0  70 80 82 72 58 58 60 63 54 58 60 48 89 115 121...  Training\n",
              "1        0  151 150 147 155 148 133 111 140 170 174 182 15...  Training\n",
              "2        2  231 212 156 164 174 138 161 173 182 200 106 38...  Training\n",
              "3        4  24 32 36 30 32 23 19 20 30 41 21 22 32 34 21 1...  Training\n",
              "4        6  4 0 0 0 0 0 0 0 0 0 0 0 3 15 23 28 48 50 58 84...  Training"
            ]
          },
          "metadata": {
            "tags": []
          },
          "execution_count": 7
        }
      ]
    },
    {
      "metadata": {
        "id": "t4Muy4c8mVlO",
        "colab_type": "text"
      },
      "cell_type": "markdown",
      "source": [
        "**Eğitim ve test performansının ölçüldüğü veri sayılarını inceleyelim.**"
      ]
    },
    {
      "metadata": {
        "id": "8aDb454IeaJk",
        "colab_type": "code",
        "colab": {
          "base_uri": "https://localhost:8080/",
          "height": 85
        },
        "outputId": "20bcca03-7dfc-4395-ec8d-71e97759d312"
      },
      "cell_type": "code",
      "source": [
        "data[\"Usage\"].value_counts()"
      ],
      "execution_count": 8,
      "outputs": [
        {
          "output_type": "execute_result",
          "data": {
            "text/plain": [
              "Training       28709\n",
              "PublicTest      3589\n",
              "PrivateTest     3589\n",
              "Name: Usage, dtype: int64"
            ]
          },
          "metadata": {
            "tags": []
          },
          "execution_count": 8
        }
      ]
    },
    {
      "metadata": {
        "id": "acq1hS0Sbnok",
        "colab_type": "text"
      },
      "cell_type": "markdown",
      "source": [
        "**Usage** kolonunda verisetindeki örnekler kaç gruba ayrıldığını görebiliriz. \n",
        "[Kaggle](https://www.kaggle.com/c/challenges-in-representation-learning-facial-expression-recognition-challenge/data)da genelde bu şekilde submit sonrası asıl test edilmesi için verisetinden bir kısmını **\"PrivateTest\"** olarak ayırırlar."
      ]
    },
    {
      "metadata": {
        "id": "EvjClMLtg1zv",
        "colab_type": "text"
      },
      "cell_type": "markdown",
      "source": [
        "### **EĞİTİM VERİSİ İÇİN ÖN İŞLEME ADIMLARI**"
      ]
    },
    {
      "metadata": {
        "id": "OmFbNofibFJn",
        "colab_type": "code",
        "colab": {
          "base_uri": "https://localhost:8080/",
          "height": 34
        },
        "outputId": "174e4af5-1b6a-4620-f76d-924b34021050"
      },
      "cell_type": "code",
      "source": [
        "np.unique(data[\"Usage\"].values.ravel()) \n",
        "\n",
        "print('Eğitim verisetindeki örnek sayısı: %d'%(len(data[data.Usage == \"Training\"])))"
      ],
      "execution_count": 9,
      "outputs": [
        {
          "output_type": "stream",
          "text": [
            "Eğitim verisetindeki örnek sayısı: 28709\n"
          ],
          "name": "stdout"
        }
      ]
    },
    {
      "metadata": {
        "id": "rjzY0b8boVsL",
        "colab_type": "text"
      },
      "cell_type": "markdown",
      "source": [
        "Eğitim işlemi için veri kümesinde ayrılmış olan **Training** kısmını alıyoruz."
      ]
    },
    {
      "metadata": {
        "id": "HOnYI6jBb48t",
        "colab_type": "code",
        "colab": {}
      },
      "cell_type": "code",
      "source": [
        "train_data = data[data.Usage == \"Training\"] #sadece eğitim örneklerini train_data değişkenine aldık"
      ],
      "execution_count": 0,
      "outputs": []
    },
    {
      "metadata": {
        "id": "u8pP7PxEcEi2",
        "colab_type": "code",
        "colab": {
          "base_uri": "https://localhost:8080/",
          "height": 153
        },
        "outputId": "280ae8d6-e942-44c6-f3b9-ae4a2cbf461e"
      },
      "cell_type": "code",
      "source": [
        "#eğitim örneklerinin piksel değerleri bize tablo halinde yan yana verildiği için boşluklardan parse ederek liste olarak değişkene aldık\n",
        "train_pixels = train_data.pixels.str.split(\" \").tolist() \n",
        "\n",
        "train_pixels = pd.DataFrame(train_pixels, dtype=int)\n",
        "train_images = train_pixels.values\n",
        "train_images = train_images.astype(np.float)\n",
        "\n",
        "print(train_images)\n",
        "\n",
        "print(train_images.shape)"
      ],
      "execution_count": 11,
      "outputs": [
        {
          "output_type": "stream",
          "text": [
            "[[ 70.  80.  82. ... 106. 109.  82.]\n",
            " [151. 150. 147. ... 193. 183. 184.]\n",
            " [231. 212. 156. ...  88. 110. 152.]\n",
            " ...\n",
            " [ 74.  81.  87. ... 188. 187. 187.]\n",
            " [222. 227. 203. ... 136. 136. 134.]\n",
            " [195. 199. 205. ...   6.  15.  38.]]\n",
            "(28709, 2304)\n"
          ],
          "name": "stdout"
        }
      ]
    },
    {
      "metadata": {
        "id": "AKZYGM_4cKQB",
        "colab_type": "code",
        "colab": {}
      },
      "cell_type": "code",
      "source": [
        "#Görüntüyü 48x48 piksel şeklinde göstermek için bir fonksiyon tanımlayalım\n",
        "def show(img):\n",
        "    show_image = img.reshape(48,48)\n",
        "    \n",
        "    plt.axis('off')\n",
        "    plt.imshow(show_image, cmap='gray')"
      ],
      "execution_count": 0,
      "outputs": []
    },
    {
      "metadata": {
        "id": "7PvIQgz3ojBQ",
        "colab_type": "text"
      },
      "cell_type": "markdown",
      "source": [
        "**Eğitim kümesinden bir örnek görsel**"
      ]
    },
    {
      "metadata": {
        "id": "mxgHc7O4c1kg",
        "colab_type": "code",
        "colab": {
          "base_uri": "https://localhost:8080/",
          "height": 267
        },
        "outputId": "18fd584a-5a33-4724-a49d-6d35e96bc89c"
      },
      "cell_type": "code",
      "source": [
        "#Veri kümesinden \n",
        "show(train_images[28708])"
      ],
      "execution_count": 13,
      "outputs": [
        {
          "output_type": "display_data",
          "data": {
            "image/png": "[encoded data removed]",
            "text/plain": [
              "<matplotlib.figure.Figure at 0x7f347f578710>"
            ]
          },
          "metadata": {
            "tags": []
          }
        }
      ]
    },
    {
      "metadata": {
        "id": "wugSmUugonAt",
        "colab_type": "text"
      },
      "cell_type": "markdown",
      "source": [
        "**Eğitim kümesinde kaç sınıf bulunuyor bunu görelim.**"
      ]
    },
    {
      "metadata": {
        "id": "MOTXHOnFc5pL",
        "colab_type": "code",
        "colab": {
          "base_uri": "https://localhost:8080/",
          "height": 34
        },
        "outputId": "7855b83c-2c0e-42a3-bce7-d3a58c0f1bb2"
      },
      "cell_type": "code",
      "source": [
        "train_labels_flat = train_data[\"emotion\"].values.ravel()\n",
        "train_labels_count = np.unique(train_labels_flat).shape[0]\n",
        "print('Farklı yüz ifadelerinin sayısı: %d'%train_labels_count)"
      ],
      "execution_count": 14,
      "outputs": [
        {
          "output_type": "stream",
          "text": [
            "Farklı yüz ifadelerinin sayısı: 7\n"
          ],
          "name": "stdout"
        }
      ]
    },
    {
      "metadata": {
        "id": "3K72u0OuosC1",
        "colab_type": "text"
      },
      "cell_type": "markdown",
      "source": [
        "**One Hot ile eğitim kümesindeki verilerin her birine düşen sınıfı yani eğitim işlemi boyutunu görelim.**"
      ]
    },
    {
      "metadata": {
        "id": "H81obuzXetxA",
        "colab_type": "code",
        "colab": {}
      },
      "cell_type": "code",
      "source": [
        "def dense_to_one_hot(labels_dense, num_classes):\n",
        "    num_labels = labels_dense.shape[0]\n",
        "    index_offset = np.arange(num_labels) * num_classes\n",
        "    labels_one_hot = np.zeros((num_labels, num_classes))\n",
        "    labels_one_hot.flat[index_offset + labels_dense.ravel()] = 1\n",
        "    return labels_one_hot"
      ],
      "execution_count": 0,
      "outputs": []
    },
    {
      "metadata": {
        "id": "EShRE3MhgL1N",
        "colab_type": "code",
        "colab": {
          "base_uri": "https://localhost:8080/",
          "height": 34
        },
        "outputId": "b250f4d0-9b78-4df0-e18c-e20b21a1ee3d"
      },
      "cell_type": "code",
      "source": [
        "y_train = dense_to_one_hot(train_labels_flat, train_labels_count)\n",
        "y_train = y_train.astype(np.uint8)\n",
        "\n",
        "print(y_train.shape)"
      ],
      "execution_count": 16,
      "outputs": [
        {
          "output_type": "stream",
          "text": [
            "(28709, 7)\n"
          ],
          "name": "stdout"
        }
      ]
    },
    {
      "metadata": {
        "id": "uJ_fvcOKgs1z",
        "colab_type": "text"
      },
      "cell_type": "markdown",
      "source": [
        "### TEST VERİSİ ÖN İŞLEME ADIMLARI"
      ]
    },
    {
      "metadata": {
        "id": "zlEwkhLsgMYk",
        "colab_type": "code",
        "colab": {
          "base_uri": "https://localhost:8080/",
          "height": 34
        },
        "outputId": "b376d721-83f7-44b0-b5ec-2c44c1d6ea1a"
      },
      "cell_type": "code",
      "source": [
        "np.unique(data[\"Usage\"].values.ravel()) \n",
        "\n",
        "print('Test verisetindeki örnek sayısı: %d'%(len(data[data.Usage == \"PublicTest\"])))"
      ],
      "execution_count": 17,
      "outputs": [
        {
          "output_type": "stream",
          "text": [
            "Test verisetindeki örnek sayısı: 3589\n"
          ],
          "name": "stdout"
        }
      ]
    },
    {
      "metadata": {
        "id": "DdTNEhaVpSTz",
        "colab_type": "text"
      },
      "cell_type": "markdown",
      "source": [
        "Eğitim işlemi için veri kümesinde ayrılmış olan **PublicTest** kısmını alıyoruz."
      ]
    },
    {
      "metadata": {
        "id": "Sb-wkKVMhBQy",
        "colab_type": "code",
        "colab": {
          "base_uri": "https://localhost:8080/",
          "height": 34
        },
        "outputId": "9c124e1d-68f4-4b16-b6aa-a0b61a92af1a"
      },
      "cell_type": "code",
      "source": [
        "\n",
        "test_data = data[data.Usage == \"PublicTest\"] \n",
        "test_pixels = test_data.pixels.str.split(\" \").tolist() \n",
        "\n",
        "#test örneklerinin piksel değerleri bize tablo halinde yan yana verildiği için boşluklardan parse ederek liste olarak değişkene aldık\n",
        "test_pixels = pd.DataFrame(test_pixels, dtype=int)\n",
        "test_images = test_pixels.values\n",
        "test_images = test_images.astype(np.float)\n",
        "\n",
        "print(test_images.shape)\n"
      ],
      "execution_count": 18,
      "outputs": [
        {
          "output_type": "stream",
          "text": [
            "(3589, 2304)\n"
          ],
          "name": "stdout"
        }
      ]
    },
    {
      "metadata": {
        "id": "pA19rxv_pZfQ",
        "colab_type": "text"
      },
      "cell_type": "markdown",
      "source": [
        "**Eğitim kümesinden bir örnek görsel**"
      ]
    },
    {
      "metadata": {
        "id": "oYNT8f_5hRfy",
        "colab_type": "code",
        "colab": {
          "base_uri": "https://localhost:8080/",
          "height": 267
        },
        "outputId": "0176f3b2-ec47-4b72-f7b5-06f341be969a"
      },
      "cell_type": "code",
      "source": [
        "#bir test örneği gösterelim\n",
        "show(test_images[1000])"
      ],
      "execution_count": 19,
      "outputs": [
        {
          "output_type": "display_data",
          "data": {
            "image/png": "[encoded data removed]",
            "text/plain": [
              "<matplotlib.figure.Figure at 0x7f347f67e7f0>"
            ]
          },
          "metadata": {
            "tags": []
          }
        }
      ]
    },
    {
      "metadata": {
        "id": "rqDYWdhgpgKl",
        "colab_type": "text"
      },
      "cell_type": "markdown",
      "source": [
        "**One Hot ile test kümesindeki verilerin her birine düşen sınıfı yani eğitim işlemi boyutunu görelim.**"
      ]
    },
    {
      "metadata": {
        "id": "ep7mpatlhYCy",
        "colab_type": "code",
        "colab": {
          "base_uri": "https://localhost:8080/",
          "height": 34
        },
        "outputId": "73a8fab4-64c1-45da-f401-8fb43efa8d3b"
      },
      "cell_type": "code",
      "source": [
        "test_labels_flat = test_data[\"emotion\"].values.ravel()\n",
        "test_labels_count = np.unique(test_labels_flat).shape[0]\n",
        "\n",
        "y_test = dense_to_one_hot(test_labels_flat, test_labels_count)\n",
        "y_test = y_test.astype(np.uint8)\n",
        "\n",
        "\n",
        "print(y_test.shape)"
      ],
      "execution_count": 20,
      "outputs": [
        {
          "output_type": "stream",
          "text": [
            "(3589, 7)\n"
          ],
          "name": "stdout"
        }
      ]
    },
    {
      "metadata": {
        "id": "L1S2xjvUpl-M",
        "colab_type": "text"
      },
      "cell_type": "markdown",
      "source": [
        "### TEST KÜMESİNDEN ÖRNEK GÖRÜNTÜLER"
      ]
    },
    {
      "metadata": {
        "id": "GnfWeZHBhrtJ",
        "colab_type": "code",
        "colab": {
          "base_uri": "https://localhost:8080/",
          "height": 441
        },
        "outputId": "037c1d93-049e-48c2-a706-b53d22602e10"
      },
      "cell_type": "code",
      "source": [
        "#test verisetinden örneklerden bir kaçını toplu halde görelim\n",
        "\n",
        "plt.figure(0, figsize=(12,6))\n",
        "for i in range(1, 13):\n",
        "    plt.subplot(3,4,i)\n",
        "    plt.axis('off')\n",
        "    \n",
        "    image = test_images[i].reshape(48,48)\n",
        "    plt.imshow(image, cmap=\"gray\")\n",
        "\n",
        "plt.tight_layout()\n",
        "plt.show()"
      ],
      "execution_count": 21,
      "outputs": [
        {
          "output_type": "display_data",
          "data": {
            "image/png": "[encoded data removed]",
            "text/plain": [
              "<matplotlib.figure.Figure at 0x7f353be62358>"
            ]
          },
          "metadata": {
            "tags": []
          }
        }
      ]
    },
    {
      "metadata": {
        "id": "k7zvJJjYiq0N",
        "colab_type": "text"
      },
      "cell_type": "markdown",
      "source": [
        "## DERİN EVRİŞİMLİ SİNİR AĞI MODELİ TANIMLANMASI"
      ]
    },
    {
      "metadata": {
        "id": "K03UVwP7hzDZ",
        "colab_type": "code",
        "colab": {
          "base_uri": "https://localhost:8080/",
          "height": 1020
        },
        "outputId": "9c21aa41-0681-4f89-a5fb-cc682be4266c"
      },
      "cell_type": "code",
      "source": [
        "model = Sequential()\n",
        "\n",
        "#1. KATMAN\n",
        "model.add(Conv2D(64, 3, data_format=\"channels_last\", kernel_initializer=\"he_normal\", input_shape=(48, 48, 1)))\n",
        "model.add(BatchNormalization())\n",
        "model.add(Activation(\"relu\"))\n",
        "\n",
        "#2. KATMAN\n",
        "model.add(Conv2D(64, 3))\n",
        "model.add(BatchNormalization())\n",
        "model.add(Activation(\"relu\"))\n",
        "model.add(MaxPool2D(pool_size=(2, 2), strides=2))\n",
        "model.add(Dropout(0.6)) #%60 unutma işlemi(nöron silme-dropout)\n",
        "\n",
        "#3. KATMAN\n",
        "model.add(Conv2D(32, 3))\n",
        "model.add(BatchNormalization())\n",
        "model.add(Activation(\"relu\"))\n",
        "\n",
        "#4. KATMAN\n",
        "model.add(Conv2D(32, 3))\n",
        "model.add(BatchNormalization())\n",
        "model.add(Activation(\"relu\"))\n",
        "\n",
        "#5. KATMAN\n",
        "model.add(Conv2D(32, 3))\n",
        "model.add(BatchNormalization())\n",
        "model.add(Activation(\"relu\"))\n",
        "model.add(MaxPool2D(pool_size=(2, 2), strides=2))\n",
        "model.add(Dropout(0.6))#%60 unutma işlemi(nöron silme-dropout)\n",
        "\n",
        "#TAM BAĞLANTI KATMANI\n",
        "model.add(Flatten())\n",
        "model.add(Dense(128))\n",
        "model.add(BatchNormalization())\n",
        "model.add(Activation(\"relu\"))\n",
        "model.add(Dropout(0.6)) #%60 unutma işlemi(nöron silme-dropout)\n",
        "\n",
        "#Çıkış katmanı\n",
        "model.add(Dense(7))\n",
        "model.add(Activation('softmax')) #Sınıflama işlemi (7 duygu sınıfı var)\n",
        "\n",
        "model.compile(loss='categorical_crossentropy', optimizer='adam', metrics=['accuracy']) #opmizasyon ve başarım hesaplama metriklerinin belirlenmesi\n",
        "model.summary() #model özetini görselleştirelim"
      ],
      "execution_count": 22,
      "outputs": [
        {
          "output_type": "stream",
          "text": [
            "_________________________________________________________________\n",
            "Layer (type)                 Output Shape              Param #   \n",
            "=================================================================\n",
            "conv2d_1 (Conv2D)            (None, 46, 46, 64)        640       \n",
            "_________________________________________________________________\n",
            "batch_normalization_1 (Batch (None, 46, 46, 64)        256       \n",
            "_________________________________________________________________\n",
            "activation_1 (Activation)    (None, 46, 46, 64)        0         \n",
            "_________________________________________________________________\n",
            "conv2d_2 (Conv2D)            (None, 44, 44, 64)        36928     \n",
            "_________________________________________________________________\n",
            "batch_normalization_2 (Batch (None, 44, 44, 64)        256       \n",
            "_________________________________________________________________\n",
            "activation_2 (Activation)    (None, 44, 44, 64)        0         \n",
            "_________________________________________________________________\n",
            "max_pooling2d_1 (MaxPooling2 (None, 22, 22, 64)        0         \n",
            "_________________________________________________________________\n",
            "dropout_1 (Dropout)          (None, 22, 22, 64)        0         \n",
            "_________________________________________________________________\n",
            "conv2d_3 (Conv2D)            (None, 20, 20, 32)        18464     \n",
            "_________________________________________________________________\n",
            "batch_normalization_3 (Batch (None, 20, 20, 32)        128       \n",
            "_________________________________________________________________\n",
            "activation_3 (Activation)    (None, 20, 20, 32)        0         \n",
            "_________________________________________________________________\n",
            "conv2d_4 (Conv2D)            (None, 18, 18, 32)        9248      \n",
            "_________________________________________________________________\n",
            "batch_normalization_4 (Batch (None, 18, 18, 32)        128       \n",
            "_________________________________________________________________\n",
            "activation_4 (Activation)    (None, 18, 18, 32)        0         \n",
            "_________________________________________________________________\n",
            "conv2d_5 (Conv2D)            (None, 16, 16, 32)        9248      \n",
            "_________________________________________________________________\n",
            "batch_normalization_5 (Batch (None, 16, 16, 32)        128       \n",
            "_________________________________________________________________\n",
            "activation_5 (Activation)    (None, 16, 16, 32)        0         \n",
            "_________________________________________________________________\n",
            "max_pooling2d_2 (MaxPooling2 (None, 8, 8, 32)          0         \n",
            "_________________________________________________________________\n",
            "dropout_2 (Dropout)          (None, 8, 8, 32)          0         \n",
            "_________________________________________________________________\n",
            "flatten_1 (Flatten)          (None, 2048)              0         \n",
            "_________________________________________________________________\n",
            "dense_1 (Dense)              (None, 128)               262272    \n",
            "_________________________________________________________________\n",
            "batch_normalization_6 (Batch (None, 128)               512       \n",
            "_________________________________________________________________\n",
            "activation_6 (Activation)    (None, 128)               0         \n",
            "_________________________________________________________________\n",
            "dropout_3 (Dropout)          (None, 128)               0         \n",
            "_________________________________________________________________\n",
            "dense_2 (Dense)              (None, 7)                 903       \n",
            "_________________________________________________________________\n",
            "activation_7 (Activation)    (None, 7)                 0         \n",
            "=================================================================\n",
            "Total params: 339,111\n",
            "Trainable params: 338,407\n",
            "Non-trainable params: 704\n",
            "_________________________________________________________________\n"
          ],
          "name": "stdout"
        }
      ]
    },
    {
      "metadata": {
        "id": "Fzqo8iDgqgql",
        "colab_type": "text"
      },
      "cell_type": "markdown",
      "source": [
        "**Eğtim ve Test kümelerinin eleman sayısı, yükseklik ve genişlik, kanalsayısı bilgilerini ekrana yazdıralım.**"
      ]
    },
    {
      "metadata": {
        "id": "P5MTAVX2lIV4",
        "colab_type": "code",
        "colab": {
          "base_uri": "https://localhost:8080/",
          "height": 51
        },
        "outputId": "9d2454a8-b6b9-4d26-b611-78636562839f"
      },
      "cell_type": "code",
      "source": [
        "x_train = train_images.reshape(-1, 48, 48, 1)\n",
        "x_test = test_images.reshape(-1, 48, 48, 1)\n",
        "\n",
        "print(\"Train:\", x_train.shape)\n",
        "print(\"Test:\", x_test.shape)"
      ],
      "execution_count": 23,
      "outputs": [
        {
          "output_type": "stream",
          "text": [
            "Train: (28709, 48, 48, 1)\n",
            "Test: (3589, 48, 48, 1)\n"
          ],
          "name": "stdout"
        }
      ]
    },
    {
      "metadata": {
        "id": "gGQ7Ym7XqrF1",
        "colab_type": "text"
      },
      "cell_type": "markdown",
      "source": [
        "**Eğitim ve Test kümelerinin eleman ve duygu sınıf sayısı.**"
      ]
    },
    {
      "metadata": {
        "id": "ws4s0hy6nNjB",
        "colab_type": "code",
        "colab": {
          "base_uri": "https://localhost:8080/",
          "height": 51
        },
        "outputId": "95f10e44-7e7b-4e04-a219-4db4f723241f"
      },
      "cell_type": "code",
      "source": [
        "print(\"Train:\", y_train.shape)\n",
        "print(\"Test:\", y_test.shape)"
      ],
      "execution_count": 24,
      "outputs": [
        {
          "output_type": "stream",
          "text": [
            "Train: (28709, 7)\n",
            "Test: (3589, 7)\n"
          ],
          "name": "stdout"
        }
      ]
    },
    {
      "metadata": {
        "id": "XV4Q-CJgq0Qp",
        "colab_type": "text"
      },
      "cell_type": "markdown",
      "source": [
        "**Eğitim işleminin gerçekleşmesini istediğimiz epoch, batchsize gibi değerlerin belirlenmesi ve eğitim sonucunda ağırlıkların .h5 dosyası olarak kaydedilmesi işlemleri**"
      ]
    },
    {
      "metadata": {
        "id": "df4h1lpji_AV",
        "colab_type": "code",
        "colab": {
          "base_uri": "https://localhost:8080/",
          "height": 714
        },
        "outputId": "f51e1a16-8948-4bf3-a391-fc52ff2e4ec5"
      },
      "cell_type": "code",
      "source": [
        "# en başarılı ağırlıkları kaydet\n",
        "checkpointer = ModelCheckpoint(filepath=root + 'data/face_model.h5', verbose=1, save_best_only=True)\n",
        "\n",
        "epochs = 10\n",
        "batchSize = 100 \n",
        "\n",
        "# modeli çalıştır\n",
        "hist = model.fit(x_train, y_train, \n",
        "                 epochs=epochs,\n",
        "                 shuffle=True,\n",
        "                 batch_size=batchSize, \n",
        "                 validation_data=(x_test, y_test),\n",
        "                 callbacks=[checkpointer], verbose=2)\n",
        "\n",
        "# save model to json\n",
        "model_json = model.to_json()\n",
        "with open(root + \"data/face_model.json\", \"w\") as json_file:\n",
        "    json_file.write(model_json)"
      ],
      "execution_count": 25,
      "outputs": [
        {
          "output_type": "stream",
          "text": [
            "Train on 28709 samples, validate on 3589 samples\n",
            "Epoch 1/10\n",
            " - 29s - loss: 1.9798 - acc: 0.2632 - val_loss: 1.6286 - val_acc: 0.3742\n",
            "\n",
            "Epoch 00001: val_loss improved from inf to 1.62857, saving model to Udemy_DerinOgrenmeyeGiris/Evrisimli_Sinir_Aglari/Duygu_Tanima/data/face_model.h5\n",
            "Epoch 2/10\n",
            " - 26s - loss: 1.6464 - acc: 0.3539 - val_loss: 1.5167 - val_acc: 0.4218\n",
            "\n",
            "Epoch 00002: val_loss improved from 1.62857 to 1.51667, saving model to Udemy_DerinOgrenmeyeGiris/Evrisimli_Sinir_Aglari/Duygu_Tanima/data/face_model.h5\n",
            "Epoch 3/10\n",
            " - 26s - loss: 1.5415 - acc: 0.3984 - val_loss: 1.4145 - val_acc: 0.4583\n",
            "\n",
            "Epoch 00003: val_loss improved from 1.51667 to 1.41452, saving model to Udemy_DerinOgrenmeyeGiris/Evrisimli_Sinir_Aglari/Duygu_Tanima/data/face_model.h5\n",
            "Epoch 4/10\n",
            " - 26s - loss: 1.4726 - acc: 0.4273 - val_loss: 1.3900 - val_acc: 0.4670\n",
            "\n",
            "Epoch 00004: val_loss improved from 1.41452 to 1.39003, saving model to Udemy_DerinOgrenmeyeGiris/Evrisimli_Sinir_Aglari/Duygu_Tanima/data/face_model.h5\n",
            "Epoch 5/10\n",
            " - 26s - loss: 1.4193 - acc: 0.4520 - val_loss: 1.3308 - val_acc: 0.4873\n",
            "\n",
            "Epoch 00005: val_loss improved from 1.39003 to 1.33080, saving model to Udemy_DerinOgrenmeyeGiris/Evrisimli_Sinir_Aglari/Duygu_Tanima/data/face_model.h5\n",
            "Epoch 6/10\n",
            " - 26s - loss: 1.3729 - acc: 0.4694 - val_loss: 1.2630 - val_acc: 0.5174\n",
            "\n",
            "Epoch 00006: val_loss improved from 1.33080 to 1.26304, saving model to Udemy_DerinOgrenmeyeGiris/Evrisimli_Sinir_Aglari/Duygu_Tanima/data/face_model.h5\n",
            "Epoch 7/10\n",
            " - 26s - loss: 1.3431 - acc: 0.4839 - val_loss: 1.2655 - val_acc: 0.5110\n",
            "\n",
            "Epoch 00007: val_loss did not improve from 1.26304\n",
            "Epoch 8/10\n",
            " - 26s - loss: 1.3212 - acc: 0.4925 - val_loss: 1.2438 - val_acc: 0.5118\n",
            "\n",
            "Epoch 00008: val_loss improved from 1.26304 to 1.24376, saving model to Udemy_DerinOgrenmeyeGiris/Evrisimli_Sinir_Aglari/Duygu_Tanima/data/face_model.h5\n",
            "Epoch 9/10\n",
            " - 26s - loss: 1.2974 - acc: 0.5028 - val_loss: 1.2223 - val_acc: 0.5313\n",
            "\n",
            "Epoch 00009: val_loss improved from 1.24376 to 1.22227, saving model to Udemy_DerinOgrenmeyeGiris/Evrisimli_Sinir_Aglari/Duygu_Tanima/data/face_model.h5\n",
            "Epoch 10/10\n",
            " - 26s - loss: 1.2759 - acc: 0.5104 - val_loss: 1.2063 - val_acc: 0.5316\n",
            "\n",
            "Epoch 00010: val_loss improved from 1.22227 to 1.20632, saving model to Udemy_DerinOgrenmeyeGiris/Evrisimli_Sinir_Aglari/Duygu_Tanima/data/face_model.h5\n"
          ],
          "name": "stdout"
        }
      ]
    },
    {
      "metadata": {
        "id": "ykpOsXF-rGEd",
        "colab_type": "text"
      },
      "cell_type": "markdown",
      "source": [
        "### **Eğitim sonucu elde edilen Eğitim ve Geçerleme (Validation) sonuçlarının grafiksel olarak ifade edilip ekrarna yazdırılması işlemleri.**"
      ]
    },
    {
      "metadata": {
        "id": "kJc31QwvkkSb",
        "colab_type": "code",
        "colab": {
          "base_uri": "https://localhost:8080/",
          "height": 233
        },
        "outputId": "0139b380-8dca-45f8-c385-dee61b3fc825"
      },
      "cell_type": "code",
      "source": [
        "plt.figure(figsize=(14,3))\n",
        "plt.subplot(1, 2, 1)\n",
        "plt.suptitle('Eğitim', fontsize=10)\n",
        "plt.ylabel('Loss', fontsize=16)\n",
        "plt.plot(hist.history['loss'], color='b', label='Training Loss')\n",
        "plt.plot(hist.history['val_loss'], color='r', label='Validation Loss')\n",
        "plt.legend(loc='upper right')\n",
        "\n",
        "plt.subplot(1, 2, 2)\n",
        "plt.ylabel('Accuracy', fontsize=16)\n",
        "plt.plot(hist.history['acc'], color='b', label='Training Accuracy')\n",
        "plt.plot(hist.history['val_acc'], color='r', label='Validation Accuracy')\n",
        "plt.legend(loc='lower right')\n",
        "plt.show()"
      ],
      "execution_count": 26,
      "outputs": [
        {
          "output_type": "display_data",
          "data": {
            "image/png": "[encoded data removed]",
            "text/plain": [
              "<matplotlib.figure.Figure at 0x7f354ed94fd0>"
            ]
          },
          "metadata": {
            "tags": []
          }
        }
      ]
    },
    {
      "metadata": {
        "id": "HPbKg_j-roz_",
        "colab_type": "text"
      },
      "cell_type": "markdown",
      "source": [
        "Kaggle submit edecek gibi **PrivateTest** örnekleri ile test edelim."
      ]
    },
    {
      "metadata": {
        "id": "1jbCMg87rk2C",
        "colab_type": "code",
        "colab": {
          "base_uri": "https://localhost:8080/",
          "height": 204
        },
        "outputId": "a5afb2f6-8f9f-40eb-f31e-ed20e04b78dc"
      },
      "cell_type": "code",
      "source": [
        "test = data[[\"emotion\", \"pixels\"]][data[\"Usage\"] == \"PrivateTest\"]\n",
        "test[\"pixels\"] = test[\"pixels\"].apply(lambda im: np.fromstring(im, sep=' '))\n",
        "test.head()"
      ],
      "execution_count": 27,
      "outputs": [
        {
          "output_type": "execute_result",
          "data": {
            "text/html": [
              "<div>\n",
              "<style scoped>\n",
              "    .dataframe tbody tr th:only-of-type {\n",
              "        vertical-align: middle;\n",
              "    }\n",
              "\n",
              "    .dataframe tbody tr th {\n",
              "        vertical-align: top;\n",
              "    }\n",
              "\n",
              "    .dataframe thead th {\n",
              "        text-align: right;\n",
              "    }\n",
              "</style>\n",
              "<table border=\"1\" class=\"dataframe\">\n",
              "  <thead>\n",
              "    <tr style=\"text-align: right;\">\n",
              "      <th></th>\n",
              "      <th>emotion</th>\n",
              "      <th>pixels</th>\n",
              "    </tr>\n",
              "  </thead>\n",
              "  <tbody>\n",
              "    <tr>\n",
              "      <th>32298</th>\n",
              "      <td>0</td>\n",
              "      <td>[170.0, 118.0, 101.0, 88.0, 88.0, 75.0, 78.0, ...</td>\n",
              "    </tr>\n",
              "    <tr>\n",
              "      <th>32299</th>\n",
              "      <td>5</td>\n",
              "      <td>[7.0, 5.0, 8.0, 6.0, 7.0, 3.0, 2.0, 6.0, 5.0, ...</td>\n",
              "    </tr>\n",
              "    <tr>\n",
              "      <th>32300</th>\n",
              "      <td>6</td>\n",
              "      <td>[232.0, 240.0, 241.0, 239.0, 237.0, 235.0, 246...</td>\n",
              "    </tr>\n",
              "    <tr>\n",
              "      <th>32301</th>\n",
              "      <td>4</td>\n",
              "      <td>[200.0, 197.0, 149.0, 139.0, 156.0, 89.0, 111....</td>\n",
              "    </tr>\n",
              "    <tr>\n",
              "      <th>32302</th>\n",
              "      <td>2</td>\n",
              "      <td>[40.0, 28.0, 33.0, 56.0, 45.0, 33.0, 31.0, 78....</td>\n",
              "    </tr>\n",
              "  </tbody>\n",
              "</table>\n",
              "</div>"
            ],
            "text/plain": [
              "       emotion                                             pixels\n",
              "32298        0  [170.0, 118.0, 101.0, 88.0, 88.0, 75.0, 78.0, ...\n",
              "32299        5  [7.0, 5.0, 8.0, 6.0, 7.0, 3.0, 2.0, 6.0, 5.0, ...\n",
              "32300        6  [232.0, 240.0, 241.0, 239.0, 237.0, 235.0, 246...\n",
              "32301        4  [200.0, 197.0, 149.0, 139.0, 156.0, 89.0, 111....\n",
              "32302        2  [40.0, 28.0, 33.0, 56.0, 45.0, 33.0, 31.0, 78...."
            ]
          },
          "metadata": {
            "tags": []
          },
          "execution_count": 27
        }
      ]
    },
    {
      "metadata": {
        "id": "XYrUY0yZrzwZ",
        "colab_type": "code",
        "colab": {}
      },
      "cell_type": "code",
      "source": [
        "x_test_private = np.vstack(test[\"pixels\"].values)\n",
        "y_test_private = np.array(test[\"emotion\"])"
      ],
      "execution_count": 0,
      "outputs": []
    },
    {
      "metadata": {
        "id": "8EjrNWwNr1GA",
        "colab_type": "code",
        "colab": {
          "base_uri": "https://localhost:8080/",
          "height": 34
        },
        "outputId": "dc358ba3-e0fa-45a9-fd81-a546b0fcce24"
      },
      "cell_type": "code",
      "source": [
        "x_test_private = x_test_private.reshape(-1, 48, 48, 1)\n",
        "y_test_private = np_utils.to_categorical(y_test_private)\n",
        "x_test_private.shape, y_test_private.shape"
      ],
      "execution_count": 29,
      "outputs": [
        {
          "output_type": "execute_result",
          "data": {
            "text/plain": [
              "((3589, 48, 48, 1), (3589, 7))"
            ]
          },
          "metadata": {
            "tags": []
          },
          "execution_count": 29
        }
      ]
    },
    {
      "metadata": {
        "id": "pRfMZ0iUr2Fh",
        "colab_type": "code",
        "colab": {
          "base_uri": "https://localhost:8080/",
          "height": 34
        },
        "outputId": "fb94651c-c80f-451a-b248-a50a2f99c642"
      },
      "cell_type": "code",
      "source": [
        "score = model.evaluate(x_test_private, y_test_private, verbose=0)\n",
        "print(\"PrivateTest üzerinde doğruluk başarımı:\", score)"
      ],
      "execution_count": 30,
      "outputs": [
        {
          "output_type": "stream",
          "text": [
            "PrivateTest üzerinde doğruluk başarımı: [1.1977910838375585, 0.5374756199581505]\n"
          ],
          "name": "stdout"
        }
      ]
    },
    {
      "metadata": {
        "id": "qUSQck6jrpQt",
        "colab_type": "text"
      },
      "cell_type": "markdown",
      "source": [
        " **Veri kümseindeki eğitim kısmı ile modeli eğitip test için ayırılan veri ile test işlemlerini yaptık. **\n",
        "\n",
        "---\n",
        "\n",
        "## Farklı görüntülerle test işlemlerini yapıp sonuçları görselleştirelim."
      ]
    },
    {
      "metadata": {
        "id": "EmN18DOztI5P",
        "colab_type": "code",
        "colab": {}
      },
      "cell_type": "code",
      "source": [
        "from keras.models import load_model\n",
        "from PIL import Image\n",
        "from keras.preprocessing import image"
      ],
      "execution_count": 0,
      "outputs": []
    },
    {
      "metadata": {
        "id": "MOpKBOiytpmH",
        "colab_type": "text"
      },
      "cell_type": "markdown",
      "source": [
        "**Daha önceki eğitimde kaydettiğimiz modelin hesapladığını öğrenilmiş ağırlık dosyasını kullanıyoruz.**"
      ]
    },
    {
      "metadata": {
        "id": "9ZtX2A8utMt6",
        "colab_type": "code",
        "colab": {}
      },
      "cell_type": "code",
      "source": [
        "# en iyi ağırlıkları yükle\n",
        "model_best = load_model(root + 'data/face_model.h5')"
      ],
      "execution_count": 0,
      "outputs": []
    },
    {
      "metadata": {
        "id": "Ccfjh8n4t1pv",
        "colab_type": "text"
      },
      "cell_type": "markdown",
      "source": [
        "**Test görüntüsünü okuma ve yeniden boytlandırma işlemleri** ve **Kestirim sonucunun hesaplanması ve ekrana yazdırılması**"
      ]
    },
    {
      "metadata": {
        "id": "BMKawy5CKos2",
        "colab_type": "code",
        "colab": {
          "base_uri": "https://localhost:8080/",
          "height": 102
        },
        "outputId": "7c5e176f-851c-46b1-f7db-571d19d84fc8"
      },
      "cell_type": "code",
      "source": [
        "!ls 'Udemy_DerinOgrenmeyeGiris/Evrisimli_Sinir_Aglari/Duygu_Tanima/images'"
      ],
      "execution_count": 45,
      "outputs": [
        {
          "output_type": "stream",
          "text": [
            "bb1.jpg      javierbardem2.jpg\tlotr2.jpg\t  test4.jpg  yuz2.jpg\r\n",
            "bb2.jpg      javierbardem.jpg\tlotr3.jpg\t  test5.jpg  yuz3.jpg\r\n",
            "brando.png   kemal_sunal2.jpg\trobertdeniro.jpg  test6.jpg\r\n",
            "emojis\t     kemal_sunal.jpg\ttest2.jpg\t  test.jpg\r\n",
            "hababam.jpg  lotr1.png\t\ttest3.jpg\t  yuz1.jpg\r\n"
          ],
          "name": "stdout"
        }
      ]
    },
    {
      "metadata": {
        "id": "NZ0NerWXtd7h",
        "colab_type": "code",
        "colab": {
          "base_uri": "https://localhost:8080/",
          "height": 51
        },
        "outputId": "91a30ea5-f03d-4d4b-d821-d654f31956c7"
      },
      "cell_type": "code",
      "source": [
        "#test_image=x_test_private[60] #eğer veri kümesinden bir görsel denemek isterseniz burada [] içine rastgele bir görsel numarası atayarak test edebilirsiniz!\n",
        "\n",
        "image_path = root + \"images/yuz2.jpg\"\n",
        "\n",
        "test_image_orjinal = image.load_img(image_path) # orjinal renkli görüntü\n",
        "\n",
        "\n",
        "test_image = image.load_img(image_path, target_size=(48,48), grayscale=True)\n",
        "test_data = image.img_to_array(test_image)\n",
        "\n",
        "test_data = np.expand_dims(test_data, axis=0)\n",
        "test_data = np.vstack([test_data])\n",
        "\n",
        "results = model_best.predict(test_data, batch_size=1) \n",
        "results"
      ],
      "execution_count": 54,
      "outputs": [
        {
          "output_type": "execute_result",
          "data": {
            "text/plain": [
              "array([[0.08213726, 0.00198286, 0.20901945, 0.06056175, 0.2777197 ,\n",
              "        0.07053033, 0.29804865]], dtype=float32)"
            ]
          },
          "metadata": {
            "tags": []
          },
          "execution_count": 54
        }
      ]
    },
    {
      "metadata": {
        "id": "ZnGYWVlLubif",
        "colab_type": "text"
      },
      "cell_type": "markdown",
      "source": [
        "### SONUÇLARIN GÖRSELLEŞTİRİLMESİ ADIMLARI"
      ]
    },
    {
      "metadata": {
        "id": "MO27x1WGtiiT",
        "colab_type": "code",
        "colab": {
          "base_uri": "https://localhost:8080/",
          "height": 877
        },
        "outputId": "8116c770-7d7d-4546-dce6-c0345db4a859"
      },
      "cell_type": "code",
      "source": [
        "#sınıflarımız 7 adet duygu durumumuz\n",
        "class_names = ['kizgin', 'igrenme', 'korku', 'mutlu', 'uzgun', 'sasirma', 'dogal']\n",
        "\n",
        "ind = 0.1+0.6*np.arange(len(class_names))  #\n",
        "width = 0.4  #bar genişliği\n",
        "\n",
        "color_list = ['red','orangered','darkorange','limegreen','darkgreen','royalblue','navy']\n",
        "\n",
        "\n",
        "# test resmimizi çizdirelim\n",
        "plt.imshow(test_image_orjinal)\n",
        "plt.title('Giriş Resmi', fontsize=16)\n",
        "plt.axis('off')\n",
        "plt.show()\n",
        "\n",
        "\n",
        "#sonuçlarımızı renklendirelim\n",
        "for i in range(len(class_names)):\n",
        "  plt.bar(ind[i], results[0][i], width, color=color_list[i])\n",
        "  \n",
        "plt.title(\"Sınflandırma sonuçları \",fontsize=20)\n",
        "plt.xlabel(\" Yüz İfadesi Kategorileri \",fontsize=16)\n",
        "plt.ylabel(\" Sınıflandırma Skoru\",fontsize=16)\n",
        "plt.xticks(ind, class_names, rotation=45, fontsize=14)\n",
        "plt.show()\n",
        "\n",
        "\n",
        "print(\"Sınıflandırma sonucu en yüksek oranla:\", class_names[np.argmax(results)])\n",
        "\n",
        "\n",
        "# en yüksek skorlu duyguya karşılık emoji çizdirelim\n",
        "emojis_img = image.load_img(root + 'images/emojis/%s.png' % str(class_names[np.argmax(results)]))\n",
        "\n",
        "plt.imshow(emojis_img)\n",
        "plt.axis('off')\n",
        "plt.show()"
      ],
      "execution_count": 55,
      "outputs": [
        {
          "output_type": "display_data",
          "data": {
            "image/png": "[encoded data removed]",
            "text/plain": [
              "<matplotlib.figure.Figure at 0x7f353fc0f048>"
            ]
          },
          "metadata": {
            "tags": []
          }
        },
        {
          "output_type": "display_data",
          "data": {
            "image/png": "[encoded data removed]",
            "text/plain": [
              "<matplotlib.figure.Figure at 0x7f353f8705f8>"
            ]
          },
          "metadata": {
            "tags": []
          }
        },
        {
          "output_type": "stream",
          "text": [
            "Sınıflandırma sonucu en yüksek oranla: dogal\n"
          ],
          "name": "stdout"
        },
        {
          "output_type": "display_data",
          "data": {
            "image/png": "[encoded data removed]",
            "text/plain": [
              "<matplotlib.figure.Figure at 0x7f353f7e12b0>"
            ]
          },
          "metadata": {
            "tags": []
          }
        }
      ]
    }
  ]
}