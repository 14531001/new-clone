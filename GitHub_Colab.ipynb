{
  "nbformat": 4,
  "nbformat_minor": 0,
  "metadata": {
    "colab": {
      "name": "GitHub-Colab.ipynb",
      "version": "0.3.2",
      "provenance": [],
      "collapsed_sections": [],
      "include_colab_link": true
    },
    "kernelspec": {
      "name": "python3",
      "display_name": "Python 3"
    },
    "accelerator": "GPU"
  },
  "cells": [
    {
      "cell_type": "markdown",
      "metadata": {
        "id": "view-in-github",
        "colab_type": "text"
      },
      "source": [
        "[View in Colaboratory](https://colab.research.google.com/github/ayyucekizrak/Udemy_DerinOgrenmeyeGiris/blob/master/GitHub_Colab.ipynb)"
      ]
    },
    {
      "metadata": {
        "id": "jL-wRbgQpyNK",
        "colab_type": "text"
      },
      "cell_type": "markdown",
      "source": [
        "# **GitHub üzerindeki Repo ile Colab üzerinde nasıl çalışabilirim?**\n",
        "\n",
        "\n",
        "[<img align=\"left\" width=\"100\" height=\"100\" src=\"http://www.i2symbol.com/images/symbols/style-letters/circled_latin_capital_letter_a_u24B6_icon_128x128.png\">](https://www.ayyucekizrak.com/)\n",
        "[<img align=\"right\" width=\"200\" height=\"50\"  src=\"https://raw.githubusercontent.com/deeplearningturkiye/pratik-derin-ogrenme-uygulamalari/944a247d404741ba37b9ef74de0716acff6fd4f9/images/dltr_logo.png\">](https://deeplearningturkiye.com/)\n",
        "\n",
        "---\n",
        "\n",
        "GitHub'ta bulunan bir repoyu olduğu gibi Google Colab üzerine basitçe taşıyabilir ve Colab üzerinde çalışmalarınızı sürdürebilirsiniz. [Derin Öğrenmeye Giriş](https://https://www.udemy.com/derin-ogrenmeye-giris/?couponCode=DEEPLEARNINGTR35) kursu için de bu şekilde yaptığınızda parça parça dosya indirmenize gerek kalmadan drive'ınızda çalışma ortamınızı yaratmış olursunuz!\n",
        "\n",
        "---\n",
        "Ayrıca Windows, IOS ya da Ubuntu için [GitHub'ın masaüstü uygulaması](https://https://desktop.github.com/)nı indirirseniz, otomatik olarak yapacağınız senkronizasyonlarla GitHub'ta yapılan değişiklikleri lokal bilgisayarınızda da güncel tutmanız mümkün olacaktır. \n",
        "\n",
        "---\n"
      ]
    },
    {
      "metadata": {
        "id": "YWmy2KRhPbP3",
        "colab_type": "code",
        "colab": {}
      },
      "cell_type": "code",
      "source": [
        "!apt-get install -y -qq software-properties-common python-software-properties module-init-tools\n",
        "!add-apt-repository -y ppa:alessandro-strada/ppa 2>&1 > /dev/null\n",
        "!apt-get update -qq 2>&1 > /dev/null\n",
        "!apt-get -y install -qq google-drive-ocamlfuse fuse\n",
        "from google.colab import auth\n",
        "auth.authenticate_user()\n",
        "from oauth2client.client import GoogleCredentials\n",
        "creds = GoogleCredentials.get_application_default()\n",
        "import getpass\n",
        "!google-drive-ocamlfuse -headless -id={creds.client_id} -secret={creds.client_secret} < /dev/null 2>&1 | grep URL\n",
        "vcode = getpass.getpass()\n",
        "!echo {vcode} | google-drive-ocamlfuse -headless -id={creds.client_id} -secret={creds.client_secret}"
      ],
      "execution_count": 0,
      "outputs": []
    },
    {
      "metadata": {
        "id": "15lBVs-qP2DD",
        "colab_type": "code",
        "colab": {}
      },
      "cell_type": "code",
      "source": [
        "!mkdir -p drive\n",
        "!google-drive-ocamlfuse drive"
      ],
      "execution_count": 0,
      "outputs": []
    },
    {
      "metadata": {
        "id": "mrHgNNb4QC-7",
        "colab_type": "code",
        "colab": {}
      },
      "cell_type": "code",
      "source": [
        "import os\n",
        "os.chdir(\"/content/drive/\")"
      ],
      "execution_count": 0,
      "outputs": []
    },
    {
      "metadata": {
        "id": "18Y89C-_QR95",
        "colab_type": "code",
        "colab": {}
      },
      "cell_type": "code",
      "source": [
        "!git clone https://github.com/ayyucekizrak/Udemy_DerinOgrenmeyeGiris.git"
      ],
      "execution_count": 0,
      "outputs": []
    }
  ]
}