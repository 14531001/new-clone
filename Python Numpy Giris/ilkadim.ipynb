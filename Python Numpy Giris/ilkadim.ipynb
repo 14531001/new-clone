{
  "nbformat": 4,
  "nbformat_minor": 0,
  "metadata": {
    "colab": {
      "name": "ilkadim.ipynb",
      "version": "0.3.2",
      "provenance": [],
      "collapsed_sections": []
    },
    "kernelspec": {
      "name": "python3",
      "display_name": "Python 3"
    },
    "accelerator": "GPU"
  },
  "cells": [
    {
      "metadata": {
        "id": "iwoMSFw6uFnV",
        "colab_type": "text"
      },
      "cell_type": "markdown",
      "source": [
        "## İLK ADIM'da COLAB servisini nasıl kullanabilirim sorusunun cevaplarını bulabilirsiniz. \n",
        "\n",
        "\n",
        "---\n",
        "\n",
        "\n",
        "**Kaynak: **[Google Colab ile Ücretsiz GPU Kullanımı ](https://medium.com/deep-learning-turkiye/google-colab-ile-%C3%BCcretsiz-gpu-kullan%C4%B1m%C4%B1-30fdb7dd822e) \n",
        "\n",
        "[<img align=\"left\" width=\"100\" height=\"100\" src=\"http://www.i2symbol.com/images/symbols/style-letters/circled_latin_capital_letter_a_u24B6_icon_128x128.png\">](https://www.ayyucekizrak.com/)\n",
        "[<img align=\"right\" width=\"200\" height=\"50\"  src=\"https://raw.githubusercontent.com/deeplearningturkiye/pratik-derin-ogrenme-uygulamalari/944a247d404741ba37b9ef74de0716acff6fd4f9/images/dltr_logo.png\">](https://deeplearningturkiye.com/)\n"
      ]
    },
    {
      "metadata": {
        "id": "RiQSUrP-piH3",
        "colab_type": "text"
      },
      "cell_type": "markdown",
      "source": [
        "**Colab** için kimlik doğrulama admlarını gerçekleştirme..."
      ]
    },
    {
      "metadata": {
        "id": "PU8hePRsfOhk",
        "colab_type": "code",
        "colab": {}
      },
      "cell_type": "code",
      "source": [
        "!apt-get install -y -qq software-properties-common python-software-properties module-init-tools\n",
        "!add-apt-repository -y ppa:alessandro-strada/ppa 2>&1 > /dev/null\n",
        "!apt-get update -qq 2>&1 > /dev/null\n",
        "!apt-get -y install -qq google-drive-ocamlfuse fuse\n",
        "from google.colab import auth\n",
        "auth.authenticate_user()\n",
        "from oauth2client.client import GoogleCredentials\n",
        "creds = GoogleCredentials.get_application_default()\n",
        "import getpass\n",
        "!google-drive-ocamlfuse -headless -id={creds.client_id} -secret={creds.client_secret} < /dev/null 2>&1 | grep URL\n",
        "vcode = getpass.getpass()\n",
        "!echo {vcode} | google-drive-ocamlfuse -headless -id={creds.client_id} -secret={creds.client_secret}"
      ],
      "execution_count": 0,
      "outputs": []
    },
    {
      "metadata": {
        "id": "jUfqNT3bfulQ",
        "colab_type": "code",
        "colab": {}
      },
      "cell_type": "code",
      "source": [
        "!mkdir -p drive\n",
        "!google-drive-ocamlfuse drive"
      ],
      "execution_count": 0,
      "outputs": []
    },
    {
      "metadata": {
        "id": "a-YuvSKef0_B",
        "colab_type": "code",
        "colab": {}
      },
      "cell_type": "code",
      "source": [
        "import sys\n",
        "sys.path.insert(0, 'drive/Udemy_DerinOgrenmeyeGiris/Python Numpy Giris/')"
      ],
      "execution_count": 0,
      "outputs": []
    },
    {
      "metadata": {
        "id": "42dnDDQjpn4w",
        "colab_type": "text"
      },
      "cell_type": "markdown",
      "source": [
        "### Kütüphane Kulumu"
      ]
    },
    {
      "metadata": {
        "id": "Q-q5Xx0MgF4Z",
        "colab_type": "code",
        "colab": {}
      },
      "cell_type": "code",
      "source": [
        "!pip install -q keras"
      ],
      "execution_count": 0,
      "outputs": []
    },
    {
      "metadata": {
        "id": "NLkPqhD8puCV",
        "colab_type": "text"
      },
      "cell_type": "markdown",
      "source": [
        "### `.py` uzantılı bir dosyayı Colab üzerinden çağırarak çalıştırma!!!"
      ]
    },
    {
      "metadata": {
        "id": "yZP-a5t1gUwh",
        "colab_type": "code",
        "colab": {
          "base_uri": "https://localhost:8080/",
          "height": 768
        },
        "outputId": "99d0c1ce-d353-49b7-e2cd-62af2133eafe"
      },
      "cell_type": "code",
      "source": [
        "!python3 drive/rakam_tanima_CNN_MNIST.py"
      ],
      "execution_count": 0,
      "outputs": [
        {
          "output_type": "stream",
          "text": [
            "Using TensorFlow backend.\n",
            "Downloading data from https://s3.amazonaws.com/img-datasets/mnist.npz\n",
            "11493376/11490434 [==============================] - 2s 0us/step\n",
            "x_train shape: (60000, 28, 28, 1)\n",
            "60000 train samples\n",
            "10000 test samples\n",
            "Train on 60000 samples, validate on 10000 samples\n",
            "Epoch 1/12\n",
            "2018-07-30 18:45:27.917409: I tensorflow/stream_executor/cuda/cuda_gpu_executor.cc:897] successful NUMA node read from SysFS had negative value (-1), but there must be at least one NUMA node, so returning NUMA node zero\n",
            "2018-07-30 18:45:27.917962: I tensorflow/core/common_runtime/gpu/gpu_device.cc:1392] Found device 0 with properties: \n",
            "name: Tesla K80 major: 3 minor: 7 memoryClockRate(GHz): 0.8235\n",
            "pciBusID: 0000:00:04.0\n",
            "totalMemory: 11.17GiB freeMemory: 11.10GiB\n",
            "2018-07-30 18:45:27.918019: I tensorflow/core/common_runtime/gpu/gpu_device.cc:1471] Adding visible gpu devices: 0\n",
            "2018-07-30 18:45:28.286072: I tensorflow/core/common_runtime/gpu/gpu_device.cc:952] Device interconnect StreamExecutor with strength 1 edge matrix:\n",
            "2018-07-30 18:45:28.286148: I tensorflow/core/common_runtime/gpu/gpu_device.cc:958]      0 \n",
            "2018-07-30 18:45:28.286194: I tensorflow/core/common_runtime/gpu/gpu_device.cc:971] 0:   N \n",
            "2018-07-30 18:45:28.286629: I tensorflow/core/common_runtime/gpu/gpu_device.cc:1084] Created TensorFlow device (/job:localhost/replica:0/task:0/device:GPU:0 with 10763 MB memory) -> physical GPU (device: 0, name: Tesla K80, pci bus id: 0000:00:04.0, compute capability: 3.7)\n",
            "20992/60000 [=========>....................] - ETA: 10s - loss: 0.4920 - acc: 0.8438"
          ],
          "name": "stdout"
        },
        {
          "output_type": "stream",
          "text": [
            "60000/60000 [==============================] - 12s 202us/step - loss: 0.2685 - acc: 0.9173 - val_loss: 0.0596 - val_acc: 0.9801\n",
            "Epoch 2/12\n",
            "60000/60000 [==============================] - 10s 163us/step - loss: 0.0927 - acc: 0.9732 - val_loss: 0.0417 - val_acc: 0.9863\n",
            "Epoch 3/12\n",
            "59648/60000 [============================>.] - ETA: 0s - loss: 0.0673 - acc: 0.9804"
          ],
          "name": "stdout"
        },
        {
          "output_type": "stream",
          "text": [
            "\b\b\b\b\b\b\b\b\b\b\b\b\b\b\b\b\b\b\b\b\b\b\b\b\b\b\b\b\b\b\b\b\b\b\b\b\b\b\b\b\b\b\b\b\b\b\b\b\b\b\b\b\b\b\b\b\b\b\b\b\b\b\b\b\b\b\b\b\b\b\b\b\b\b\b\b\b\b\b\b\b\b\b\r60000/60000 [==============================] - 10s 163us/step - loss: 0.0671 - acc: 0.9804 - val_loss: 0.0364 - val_acc: 0.9879\r\n",
            "Epoch 4/12\n",
            "60000/60000 [==============================] - 10s 163us/step - loss: 0.0557 - acc: 0.9830 - val_loss: 0.0316 - val_acc: 0.9892\n",
            "Epoch 5/12\n",
            "43392/60000 [====================>.........] - ETA: 2s - loss: 0.0468 - acc: 0.9855"
          ],
          "name": "stdout"
        },
        {
          "output_type": "stream",
          "text": [
            "60000/60000 [==============================] - 10s 166us/step - loss: 0.0481 - acc: 0.9854 - val_loss: 0.0306 - val_acc: 0.9893\n",
            "Epoch 6/12\n",
            "60000/60000 [==============================] - 10s 163us/step - loss: 0.0419 - acc: 0.9871 - val_loss: 0.0330 - val_acc: 0.9896\n",
            "Epoch 7/12\n",
            "60000/60000 [==============================] - 10s 163us/step - loss: 0.0363 - acc: 0.9892 - val_loss: 0.0292 - val_acc: 0.9903\n",
            "Epoch 8/12\n",
            " 2816/60000 [>.............................] - ETA: 8s - loss: 0.0400 - acc: 0.9886"
          ],
          "name": "stdout"
        },
        {
          "output_type": "stream",
          "text": [
            "60000/60000 [==============================] - 10s 164us/step - loss: 0.0351 - acc: 0.9891 - val_loss: 0.0258 - val_acc: 0.9916\n",
            "Epoch 9/12\n",
            "60000/60000 [==============================] - 10s 164us/step - loss: 0.0308 - acc: 0.9905 - val_loss: 0.0255 - val_acc: 0.9924\n",
            "Epoch 10/12\n",
            "54400/60000 [==========================>...] - ETA: 0s - loss: 0.0280 - acc: 0.9911"
          ],
          "name": "stdout"
        },
        {
          "output_type": "stream",
          "text": [
            "60000/60000 [==============================] - 10s 164us/step - loss: 0.0290 - acc: 0.9909 - val_loss: 0.0258 - val_acc: 0.9924\n",
            "Epoch 11/12\n",
            "60000/60000 [==============================] - 10s 162us/step - loss: 0.0290 - acc: 0.9911 - val_loss: 0.0259 - val_acc: 0.9913\n",
            "Epoch 12/12\n",
            "60000/60000 [==============================] - 10s 163us/step - loss: 0.0262 - acc: 0.9919 - val_loss: 0.0301 - val_acc: 0.9912\n",
            "Test loss: 0.03011881780190274\n",
            "Test accuracy: 0.9912\n"
          ],
          "name": "stdout"
        }
      ]
    }
  ]
}