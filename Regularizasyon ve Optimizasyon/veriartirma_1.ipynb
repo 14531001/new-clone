{
  "nbformat": 4,
  "nbformat_minor": 0,
  "metadata": {
    "colab": {
      "name": "veriartirma_1.ipynb",
      "version": "0.3.2",
      "provenance": [],
      "collapsed_sections": []
    }
  },
  "cells": [
    {
      "metadata": {
        "id": "pgCUUWhpyXEf",
        "colab_type": "text"
      },
      "cell_type": "markdown",
      "source": [
        "# Veri Artırma Örnek 1\n",
        "\n",
        "---\n",
        "\n",
        "[<img align=\"left\" width=\"100\" height=\"100\" src=\"https://images.cdn2.stockunlimited.net/clipart/letter-a_1995332.jpg\">](https://www.ayyucekizrak.com/)\n",
        "[<img align=\"right\" width=\"200\" height=\"50\"  src=\"https://raw.githubusercontent.com/deeplearningturkiye/pratik-derin-ogrenme-uygulamalari/944a247d404741ba37b9ef74de0716acff6fd4f9/images/dltr_logo.png\">](https://deeplearningturkiye.com/)"
      ]
    },
    {
      "metadata": {
        "id": "YFIBrFWe0jMi",
        "colab_type": "text"
      },
      "cell_type": "markdown",
      "source": [
        "**Colab** için kimlik doğrulama admlarını gerçekleştirme..."
      ]
    },
    {
      "metadata": {
        "id": "DAk3r614vcg3",
        "colab_type": "code",
        "colab": {
          "base_uri": "https://localhost:8080/",
          "height": 105
        },
        "outputId": "eca4f203-0f42-48c7-ac04-63363af693e6"
      },
      "cell_type": "code",
      "source": [
        "!apt-get install -y -qq software-properties-common python-software-properties module-init-tools\n",
        "!add-apt-repository -y ppa:alessandro-strada/ppa 2>&1 > /dev/null\n",
        "!apt-get update -qq 2>&1 > /dev/null\n",
        "!apt-get -y install -qq google-drive-ocamlfuse fuse\n",
        "from google.colab import auth\n",
        "auth.authenticate_user()\n",
        "from oauth2client.client import GoogleCredentials\n",
        "creds = GoogleCredentials.get_application_default()\n",
        "import getpass\n",
        "!google-drive-ocamlfuse -headless -id={creds.client_id} -secret={creds.client_secret} < /dev/null 2>&1 | grep URL\n",
        "vcode = getpass.getpass()\n",
        "!echo {vcode} | google-drive-ocamlfuse -headless -id={creds.client_id} -secret={creds.client_secret}\n",
        "!mkdir -p drive\n",
        "!google-drive-ocamlfuse drive"
      ],
      "execution_count": 0,
      "outputs": [
        {
          "output_type": "stream",
          "text": [
            "Please, open the following URL in a web browser: https://accounts.google.com/o/oauth2/auth?client_id=32555940559.apps.googleusercontent.com&redirect_uri=urn%3Aietf%3Awg%3Aoauth%3A2.0%3Aoob&scope=https%3A%2F%2Fwww.googleapis.com%2Fauth%2Fdrive&response_type=code&access_type=offline&approval_prompt=force\r\n",
            "··········\n",
            "Please, open the following URL in a web browser: https://accounts.google.com/o/oauth2/auth?client_id=32555940559.apps.googleusercontent.com&redirect_uri=urn%3Aietf%3Awg%3Aoauth%3A2.0%3Aoob&scope=https%3A%2F%2Fwww.googleapis.com%2Fauth%2Fdrive&response_type=code&access_type=offline&approval_prompt=force\n",
            "Please enter the verification code: Access token retrieved correctly.\n"
          ],
          "name": "stdout"
        }
      ]
    },
    {
      "metadata": {
        "id": "Yw-R7pN40mfI",
        "colab_type": "text"
      },
      "cell_type": "markdown",
      "source": [
        "**Drive da dosya konumlandırmayı yapma işlemleri**"
      ]
    },
    {
      "metadata": {
        "id": "-Cl3arzJwE2n",
        "colab_type": "code",
        "colab": {
          "base_uri": "https://localhost:8080/",
          "height": 34
        },
        "outputId": "6530fc1d-b03a-4f8e-82e8-17f0f09a0763"
      },
      "cell_type": "code",
      "source": [
        "!ls"
      ],
      "execution_count": 0,
      "outputs": [
        {
          "output_type": "stream",
          "text": [
            "datalab  drive\r\n"
          ],
          "name": "stdout"
        }
      ]
    },
    {
      "metadata": {
        "id": "JOtO5AoDwHMQ",
        "colab_type": "code",
        "colab": {
          "base_uri": "https://localhost:8080/",
          "height": 51
        },
        "outputId": "cd5a3787-c7b7-4cb7-8565-0d5de990a992"
      },
      "cell_type": "code",
      "source": [
        "!ls drive"
      ],
      "execution_count": 0,
      "outputs": [
        {
          "output_type": "stream",
          "text": [
            "araguler.jpg\t KapsulAglari.ipynb  Python Numpy Giriş  VeriArtirma\r\n",
            "Colab Notebooks  Python_Giris.ipynb  titanic\t\t Veri_Artirma\r\n"
          ],
          "name": "stdout"
        }
      ]
    },
    {
      "metadata": {
        "id": "tiorsM9pw_F4",
        "colab_type": "code",
        "colab": {}
      },
      "cell_type": "code",
      "source": [
        "import os\n",
        "os.chdir(\"drive/Veri_Artirma\")"
      ],
      "execution_count": 0,
      "outputs": []
    },
    {
      "metadata": {
        "id": "0ZsbWWLoxI8z",
        "colab_type": "code",
        "colab": {
          "base_uri": "https://localhost:8080/",
          "height": 51
        },
        "outputId": "fae4fa72-db50-407e-c207-e2426c9cde28"
      },
      "cell_type": "code",
      "source": [
        "!ls"
      ],
      "execution_count": 0,
      "outputs": [
        {
          "output_type": "stream",
          "text": [
            "araguler.jpg\t ChetBaker.jpg\tveriartirma_1.ipynb\r\n",
            "Artirilmis_Veri  logo.jpg\tveriartirma_2.ipynb\r\n"
          ],
          "name": "stdout"
        }
      ]
    },
    {
      "metadata": {
        "id": "lNC_LFVL0rkJ",
        "colab_type": "text"
      },
      "cell_type": "markdown",
      "source": [
        "**Paketlerin Yüklenmesi**"
      ]
    },
    {
      "metadata": {
        "id": "EL2Un74sMjSW",
        "colab_type": "code",
        "colab": {}
      },
      "cell_type": "code",
      "source": [
        "from keras.preprocessing.image import ImageDataGenerator, array_to_img, img_to_array, load_img"
      ],
      "execution_count": 0,
      "outputs": []
    },
    {
      "metadata": {
        "id": "5-V5abap0wWc",
        "colab_type": "text"
      },
      "cell_type": "markdown",
      "source": [
        "### Kullanılacak veri artırma yönteminin seçilmesi ve hiper parametrelerinin belirlenmesi işlemleri"
      ]
    },
    {
      "metadata": {
        "id": "FgV9kXz7lnq7",
        "colab_type": "code",
        "colab": {}
      },
      "cell_type": "code",
      "source": [
        "# kullanılacak veri artırma tekniklerini tanımla\n",
        "datagen = ImageDataGenerator(rotation_range=40,\n",
        "                             width_shift_range=0.2,\n",
        "                             height_shift_range=0.2,\n",
        "                             shear_range=0.2,\n",
        "                             zoom_range=0.2,\n",
        "                             horizontal_flip=True,\n",
        "                             vertical_flip=True,\n",
        "                             fill_mode='nearest')"
      ],
      "execution_count": 0,
      "outputs": []
    },
    {
      "metadata": {
        "id": "yoQJkXQz04s6",
        "colab_type": "text"
      },
      "cell_type": "markdown",
      "source": [
        "**Artırma işlemi yapılacak olan görüntünün dosyadan okunması işlemi**"
      ]
    },
    {
      "metadata": {
        "id": "380FsRQVlpC5",
        "colab_type": "code",
        "colab": {}
      },
      "cell_type": "code",
      "source": [
        "# tek bir resmi yükle\n",
        "# logo.jpg dosyasını da deneyebilirsiniz\n",
        "\n",
        "#img = load_img('ChetBaker.jpg')\n",
        "img = load_img('logo.jpg')\n",
        "x = img_to_array(img)\n",
        "x = x.reshape((1,) + x.shape)"
      ],
      "execution_count": 0,
      "outputs": []
    },
    {
      "metadata": {
        "id": "O4I_afHq09LG",
        "colab_type": "text"
      },
      "cell_type": "markdown",
      "source": [
        "**Giriş görüntüsünden kaç tane üretilmesini istediğimizle ilgili oluşturduğumuz `for` döngüsü ve sonuçların ilgili formatla kaydedilip, dosyaya yazdılırması işlemleri.**"
      ]
    },
    {
      "metadata": {
        "id": "j_Xf-AwwlrOc",
        "colab_type": "code",
        "colab": {}
      },
      "cell_type": "code",
      "source": [
        "# tek resimden 50 tane farklı resim üret ve Artirilmis_Veri klasörüne .jpeg formatında kaydet.\n",
        "i = 0\n",
        "\n",
        "for batch in datagen.flow(x, batch_size=1,\n",
        "                          save_to_dir='Artirilmis_Veri', \n",
        "                          save_format='jpeg'):\n",
        "    i += 1\n",
        "    if i > 50:\n",
        "        break "
      ],
      "execution_count": 0,
      "outputs": []
    }
  ]
}