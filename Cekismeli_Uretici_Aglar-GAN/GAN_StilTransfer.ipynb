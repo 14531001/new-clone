{
  "nbformat": 4,
  "nbformat_minor": 0,
  "metadata": {
    "colab": {
      "name": "GAN_StilTransfer.ipynb",
      "version": "0.3.2",
      "provenance": [],
      "collapsed_sections": []
    },
    "kernelspec": {
      "name": "python3",
      "display_name": "Python 3"
    },
    "accelerator": "GPU"
  },
  "cells": [
    {
      "metadata": {
        "id": "-X-BOUlublgA",
        "colab_type": "text"
      },
      "cell_type": "markdown",
      "source": [
        "### Kaynak: [Artistic-Style-Transfer](https://github.com/hnarayanan/artistic-style-transfer/blob/master/notebooks/6_Artistic_style_transfer_with_a_repurposed_VGG_Net_16.ipynb)"
      ]
    },
    {
      "metadata": {
        "id": "Xr12OpEMWOMu",
        "colab_type": "text"
      },
      "cell_type": "markdown",
      "source": [
        "## **EVRİŞİMSEL SİNİR AĞLARI (CNN) İLE SANATSAL STİL AKTARIMI ** <br>\n",
        "![alt text](https://avatars1.githubusercontent.com/u/32883077?s=200&v=4)"
      ]
    },
    {
      "metadata": {
        "id": "Pupk2IEcXM7m",
        "colab_type": "code",
        "colab": {}
      },
      "cell_type": "code",
      "source": [
        "!apt-get install -y -qq software-properties-common python-software-properties module-init-tools\n",
        "!add-apt-repository -y ppa:alessandro-strada/ppa 2>&1 > /dev/null\n",
        "!apt-get update -qq 2>&1 > /dev/null\n",
        "!apt-get -y install -qq google-drive-ocamlfuse fuse\n",
        "\n",
        "from google.colab import auth\n",
        "auth.authenticate_user()\n",
        "from oauth2client.client import GoogleCredentials\n",
        "creds = GoogleCredentials.get_application_default()\n",
        "import getpass\n",
        "\n",
        "!google-drive-ocamlfuse -headless -id={creds.client_id} -secret={creds.client_secret} < /dev/null 2>&1 | grep URL\n",
        "vcode = getpass.getpass()\n",
        "!echo {vcode} | google-drive-ocamlfuse -headless -id={creds.client_id} -secret={creds.client_secret}"
      ],
      "execution_count": 0,
      "outputs": []
    },
    {
      "metadata": {
        "id": "XKw-WJXRXqoV",
        "colab_type": "code",
        "colab": {}
      },
      "cell_type": "code",
      "source": [
        "!mkdir -p drive\n",
        "!google-drive-ocamlfuse drive\n",
        "!ls"
      ],
      "execution_count": 0,
      "outputs": []
    },
    {
      "metadata": {
        "id": "CTWOAf4MXvIF",
        "colab_type": "code",
        "colab": {}
      },
      "cell_type": "code",
      "source": [
        "!pip3 install -q keras"
      ],
      "execution_count": 0,
      "outputs": []
    },
    {
      "metadata": {
        "id": "3q3zI0dAV7gW",
        "colab_type": "code",
        "colab": {}
      },
      "cell_type": "code",
      "source": [
        "from __future__ import print_function\n",
        "\n",
        "import time\n",
        "from PIL import Image\n",
        "import numpy as np\n",
        "\n",
        "from keras import backend\n",
        "from keras.models import Model\n",
        "from keras.applications.vgg16 import VGG16\n",
        "\n",
        "from scipy.optimize import fmin_l_bfgs_b\n",
        "from scipy.misc import imsave"
      ],
      "execution_count": 0,
      "outputs": []
    },
    {
      "metadata": {
        "id": "0mbj7XlGYTqk",
        "colab_type": "code",
        "colab": {}
      },
      "cell_type": "code",
      "source": [
        "!ls 'drive/DLTR_COLAB/StyleTransfer/images/'"
      ],
      "execution_count": 0,
      "outputs": []
    },
    {
      "metadata": {
        "id": "C7CkvXS-Z-O6",
        "colab_type": "text"
      },
      "cell_type": "markdown",
      "source": [
        "### **Test resmini ve stil resmini yükleyerek ön işlemler yapıyoruz**"
      ]
    },
    {
      "metadata": {
        "id": "GQjKD_c3WYr2",
        "colab_type": "code",
        "colab": {}
      },
      "cell_type": "code",
      "source": [
        "height = 512\n",
        "width = 512\n",
        "\n",
        "root = 'drive/DLTR_COLAB/StyleTransfer/'\n",
        "content_image_path = root + 'images/yavuz.jpg'\n",
        "content_image = Image.open(content_image_path)\n",
        "content_image = content_image.resize((width, height))\n",
        "content_image"
      ],
      "execution_count": 0,
      "outputs": []
    },
    {
      "metadata": {
        "id": "798_ePX4YYJM",
        "colab_type": "code",
        "colab": {}
      },
      "cell_type": "code",
      "source": [
        "style_image_path = root + 'images/styles/style3.jpg'\n",
        "style_image = Image.open(style_image_path)\n",
        "style_image = style_image.resize((width, height))\n",
        "style_image"
      ],
      "execution_count": 0,
      "outputs": []
    },
    {
      "metadata": {
        "id": "j3efArEhZ1rU",
        "colab_type": "text"
      },
      "cell_type": "markdown",
      "source": [
        "### **Görüntüleri sayısal işlemek için ortak formata getiriyoruz**"
      ]
    },
    {
      "metadata": {
        "id": "9VCwl1NzZhzN",
        "colab_type": "code",
        "colab": {}
      },
      "cell_type": "code",
      "source": [
        "content_array = np.asarray(content_image, dtype='float32')\n",
        "content_array = np.expand_dims(content_array, axis=0)\n",
        "print(content_array.shape)\n",
        "\n",
        "style_array = np.asarray(style_image, dtype='float32')\n",
        "style_array = np.expand_dims(style_array, axis=0)\n",
        "print(style_array.shape)"
      ],
      "execution_count": 0,
      "outputs": []
    },
    {
      "metadata": {
        "id": "mX4SRI9AaQwF",
        "colab_type": "text"
      },
      "cell_type": "markdown",
      "source": [
        "Her pikselden ortalama RGB değerini çıkarıyoruz (önceden ImageNet eğitim setinde hesaplanmış değerler. Google aramalarında da kolayca bulunabilir).\n",
        "Çok boyutlu dizinin sıralamasını RGB'den BGR'ye çeviriyoruz"
      ]
    },
    {
      "metadata": {
        "id": "tLLT87VMZszP",
        "colab_type": "code",
        "colab": {}
      },
      "cell_type": "code",
      "source": [
        "content_array[:, :, :, 0] -= 103.939\n",
        "content_array[:, :, :, 1] -= 116.779\n",
        "content_array[:, :, :, 2] -= 123.68\n",
        "content_array = content_array[:, :, :, ::-1]\n",
        "\n",
        "style_array[:, :, :, 0] -= 103.939\n",
        "style_array[:, :, :, 1] -= 116.779\n",
        "style_array[:, :, :, 2] -= 123.68\n",
        "style_array = style_array[:, :, :, ::-1]"
      ],
      "execution_count": 0,
      "outputs": []
    },
    {
      "metadata": {
        "id": "jvDESqxtag5B",
        "colab_type": "code",
        "colab": {}
      },
      "cell_type": "code",
      "source": [
        "content_image = backend.variable(content_array)\n",
        "style_image = backend.variable(style_array)\n",
        "combination_image = backend.placeholder((1, height, width, 3))\n",
        "\n",
        "input_tensor = backend.concatenate([content_image,\n",
        "                                    style_image,\n",
        "                                    combination_image], axis=0)"
      ],
      "execution_count": 0,
      "outputs": []
    },
    {
      "metadata": {
        "id": "eIeS-olPauR8",
        "colab_type": "text"
      },
      "cell_type": "markdown",
      "source": [
        "### **Önceden eğitilmiş modeli kullanalım**"
      ]
    },
    {
      "metadata": {
        "id": "5ogfhwI9aF9l",
        "colab_type": "code",
        "colab": {}
      },
      "cell_type": "code",
      "source": [
        "model = VGG16(input_tensor=input_tensor, weights='imagenet', include_top=False)"
      ],
      "execution_count": 0,
      "outputs": []
    },
    {
      "metadata": {
        "id": "V_4r39_1a_ZY",
        "colab_type": "text"
      },
      "cell_type": "markdown",
      "source": [
        "### **Modelin yapısına göz atalım**"
      ]
    },
    {
      "metadata": {
        "id": "ZWDaOptja2Ca",
        "colab_type": "code",
        "colab": {}
      },
      "cell_type": "code",
      "source": [
        "layers = dict([(layer.name, layer.output) for layer in model.layers])\n",
        "layers"
      ],
      "execution_count": 0,
      "outputs": []
    },
    {
      "metadata": {
        "id": "zDg-jAfjav30",
        "colab_type": "code",
        "colab": {}
      },
      "cell_type": "code",
      "source": [
        "content_weight = 0.025\n",
        "style_weight = 5.0\n",
        "total_variation_weight = 1.0"
      ],
      "execution_count": 0,
      "outputs": []
    },
    {
      "metadata": {
        "id": "lcfRS1bRbEhs",
        "colab_type": "code",
        "colab": {}
      },
      "cell_type": "code",
      "source": [
        "loss = backend.variable(0.)"
      ],
      "execution_count": 0,
      "outputs": []
    },
    {
      "metadata": {
        "id": "Fmm6vEPBbOt6",
        "colab_type": "code",
        "colab": {}
      },
      "cell_type": "code",
      "source": [
        "def content_loss(content, combination):\n",
        "    return backend.sum(backend.square(combination - content))\n",
        "\n",
        "layer_features = layers['block2_conv2']\n",
        "content_image_features = layer_features[0, :, :, :]\n",
        "combination_features = layer_features[2, :, :, :]\n",
        "\n",
        "loss += content_weight * content_loss(content_image_features,\n",
        "                                      combination_features)"
      ],
      "execution_count": 0,
      "outputs": []
    },
    {
      "metadata": {
        "id": "G1LmHDI0bUey",
        "colab_type": "code",
        "colab": {}
      },
      "cell_type": "code",
      "source": [
        "def gram_matrix(x):\n",
        "    features = backend.batch_flatten(backend.permute_dimensions(x, (2, 0, 1)))\n",
        "    gram = backend.dot(features, backend.transpose(features))\n",
        "    return gram"
      ],
      "execution_count": 0,
      "outputs": []
    },
    {
      "metadata": {
        "id": "-jGRftwSbXS4",
        "colab_type": "code",
        "colab": {}
      },
      "cell_type": "code",
      "source": [
        "def style_loss(style, combination):\n",
        "    S = gram_matrix(style)\n",
        "    C = gram_matrix(combination)\n",
        "    channels = 3\n",
        "    size = height * width\n",
        "    return backend.sum(backend.square(S - C)) / (4. * (channels ** 2) * (size ** 2))\n",
        "\n",
        "feature_layers = ['block1_conv2', 'block2_conv2',\n",
        "                  'block3_conv3', 'block4_conv3',\n",
        "                  'block5_conv3']\n",
        "for layer_name in feature_layers:\n",
        "    layer_features = layers[layer_name]\n",
        "    style_features = layer_features[1, :, :, :]\n",
        "    combination_features = layer_features[2, :, :, :]\n",
        "    sl = style_loss(style_features, combination_features)\n",
        "    loss += (style_weight / len(feature_layers)) * sl"
      ],
      "execution_count": 0,
      "outputs": []
    },
    {
      "metadata": {
        "id": "gYgDb-f_bZDF",
        "colab_type": "code",
        "colab": {}
      },
      "cell_type": "code",
      "source": [
        "\n",
        "def total_variation_loss(x):\n",
        "    a = backend.square(x[:, :height-1, :width-1, :] - x[:, 1:, :width-1, :])\n",
        "    b = backend.square(x[:, :height-1, :width-1, :] - x[:, :height-1, 1:, :])\n",
        "    return backend.sum(backend.pow(a + b, 1.25))\n",
        "\n",
        "loss += total_variation_weight * total_variation_loss(combination_image)"
      ],
      "execution_count": 0,
      "outputs": []
    },
    {
      "metadata": {
        "id": "RGw07qV5bbBJ",
        "colab_type": "code",
        "colab": {}
      },
      "cell_type": "code",
      "source": [
        "grads = backend.gradients(loss, combination_image)"
      ],
      "execution_count": 0,
      "outputs": []
    },
    {
      "metadata": {
        "id": "fib12fXSbc1H",
        "colab_type": "code",
        "colab": {}
      },
      "cell_type": "code",
      "source": [
        "outputs = [loss]\n",
        "outputs += grads\n",
        "f_outputs = backend.function([combination_image], outputs)\n",
        "\n",
        "def eval_loss_and_grads(x):\n",
        "    x = x.reshape((1, height, width, 3))\n",
        "    outs = f_outputs([x])\n",
        "    loss_value = outs[0]\n",
        "    grad_values = outs[1].flatten().astype('float64')\n",
        "    return loss_value, grad_values\n",
        "\n",
        "class Evaluator(object):\n",
        "\n",
        "    def __init__(self):\n",
        "        self.loss_value = None\n",
        "        self.grads_values = None\n",
        "\n",
        "    def loss(self, x):\n",
        "        assert self.loss_value is None\n",
        "        loss_value, grad_values = eval_loss_and_grads(x)\n",
        "        self.loss_value = loss_value\n",
        "        self.grad_values = grad_values\n",
        "        return self.loss_value\n",
        "\n",
        "    def grads(self, x):\n",
        "        assert self.loss_value is not None\n",
        "        grad_values = np.copy(self.grad_values)\n",
        "        self.loss_value = None\n",
        "        self.grad_values = None\n",
        "        return grad_values\n",
        "\n",
        "evaluator = Evaluator()"
      ],
      "execution_count": 0,
      "outputs": []
    },
    {
      "metadata": {
        "id": "FIgSzHCfbfPK",
        "colab_type": "code",
        "colab": {}
      },
      "cell_type": "code",
      "source": [
        "x = np.random.uniform(0, 255, (1, height, width, 3)) - 128.\n",
        "\n",
        "iterations = 5\n",
        "\n",
        "for i in range(iterations):\n",
        "    print('Start of iteration', i)\n",
        "    start_time = time.time()\n",
        "    x, min_val, info = fmin_l_bfgs_b(evaluator.loss, x.flatten(),\n",
        "                                     fprime=evaluator.grads, maxfun=20)\n",
        "    print('Current loss value:', min_val)\n",
        "    end_time = time.time()\n",
        "    print('Iteration %d completed in %ds' % (i, end_time - start_time))"
      ],
      "execution_count": 0,
      "outputs": []
    },
    {
      "metadata": {
        "id": "HOask2gHbhZT",
        "colab_type": "code",
        "colab": {}
      },
      "cell_type": "code",
      "source": [
        "x = x.reshape((height, width, 3))\n",
        "x = x[:, :, ::-1]\n",
        "x[:, :, 0] += 103.939\n",
        "x[:, :, 1] += 116.779\n",
        "x[:, :, 2] += 123.68\n",
        "x = np.clip(x, 0, 255).astype('uint8')\n",
        "\n",
        "Image.fromarray(x)"
      ],
      "execution_count": 0,
      "outputs": []
    },
    {
      "metadata": {
        "id": "Ci6IhLUmgmma",
        "colab_type": "code",
        "colab": {}
      },
      "cell_type": "code",
      "source": [
        ""
      ],
      "execution_count": 0,
      "outputs": []
    }
  ]
}